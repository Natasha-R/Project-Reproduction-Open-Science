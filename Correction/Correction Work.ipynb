{
 "cells": [
  {
   "cell_type": "markdown",
   "id": "75253478-5ba1-47f3-b297-4ba6a17692ac",
   "metadata": {},
   "source": [
    "# Corrections\n",
    "\n",
    "## Figures and tables included in the paper:\n",
    "* [Table 1 (Main Face Study)](#tab1) \n",
    "* [Figure 1 (Main Face Study)](#fig1)\n",
    "* [Figure 2 (Main Voice Study)](#fig2)\n",
    "\n",
    "## Statistics mentioned in the paper:\n",
    "* [Main Voice Study Model](#voice)\n",
    "* [ANOVA Models](#anova)\n",
    "* [Main Face Study Model with Order and Time](#ordertime)\n",
    "* [Main Face Study Model with Order and Time and Stimulus as Random Factor](#ordertimestim)"
   ]
  },
  {
   "cell_type": "markdown",
   "id": "15e966c2-19d4-4a20-80e3-1972910d3ce2",
   "metadata": {},
   "source": [
    "## Importing the data"
   ]
  },
  {
   "cell_type": "code",
   "execution_count": 1,
   "id": "04b3bf16-16a3-4c48-b94d-67e1695c1216",
   "metadata": {},
   "outputs": [],
   "source": [
    "import pandas as pd\n",
    "import numpy as np\n",
    "from itertools import combinations\n",
    "import rpy2"
   ]
  },
  {
   "cell_type": "code",
   "execution_count": null,
   "id": "65a4733d-120b-4329-a704-8f86e27bbbea",
   "metadata": {},
   "outputs": [],
   "source": [
    "%load_ext rpy2.ipython"
   ]
  },
  {
   "cell_type": "code",
   "execution_count": 3,
   "id": "0175bb77-55c9-4e3a-a6b6-e41fa2c5ad22",
   "metadata": {},
   "outputs": [],
   "source": [
    "# using the original dataset with the original variable names\n",
    "face = pd.read_csv(\"data/main_study_face_data.csv\")\n",
    "voice = pd.read_csv(\"data/main_study_voice_data.csv\")"
   ]
  },
  {
   "cell_type": "markdown",
   "id": "0cd4d91a-6371-42c3-b38b-b0d84a3cbb09",
   "metadata": {},
   "source": [
    "The variable names used in original study versus our reproduction work:"
   ]
  },
  {
   "cell_type": "code",
   "execution_count": 4,
   "id": "3985cb30-5001-4139-9078-b8186622e2c6",
   "metadata": {},
   "outputs": [
    {
     "data": {
      "text/html": [
       "<div>\n",
       "<style scoped>\n",
       "    .dataframe tbody tr th:only-of-type {\n",
       "        vertical-align: middle;\n",
       "    }\n",
       "\n",
       "    .dataframe tbody tr th {\n",
       "        vertical-align: top;\n",
       "    }\n",
       "\n",
       "    .dataframe thead th {\n",
       "        text-align: right;\n",
       "    }\n",
       "</style>\n",
       "<table border=\"1\" class=\"dataframe\">\n",
       "  <thead>\n",
       "    <tr style=\"text-align: right;\">\n",
       "      <th></th>\n",
       "      <th>Original Study Variable Names</th>\n",
       "      <th>Reproduction Work Variable Names</th>\n",
       "    </tr>\n",
       "  </thead>\n",
       "  <tbody>\n",
       "    <tr>\n",
       "      <th>0</th>\n",
       "      <td>id</td>\n",
       "      <td>participant_id</td>\n",
       "    </tr>\n",
       "    <tr>\n",
       "      <th>1</th>\n",
       "      <td>order</td>\n",
       "      <td>trial_number</td>\n",
       "    </tr>\n",
       "    <tr>\n",
       "      <th>2</th>\n",
       "      <td>prime</td>\n",
       "      <td>pre_post_prime</td>\n",
       "    </tr>\n",
       "    <tr>\n",
       "      <th>3</th>\n",
       "      <td>masc</td>\n",
       "      <td>chose_masc</td>\n",
       "    </tr>\n",
       "    <tr>\n",
       "      <th>4</th>\n",
       "      <td>stim</td>\n",
       "      <td>image</td>\n",
       "    </tr>\n",
       "    <tr>\n",
       "      <th>5</th>\n",
       "      <td>cond</td>\n",
       "      <td>prime_condition</td>\n",
       "    </tr>\n",
       "  </tbody>\n",
       "</table>\n",
       "</div>"
      ],
      "text/plain": [
       "  Original Study Variable Names Reproduction Work Variable Names\n",
       "0                            id                   participant_id\n",
       "1                         order                     trial_number\n",
       "2                         prime                   pre_post_prime\n",
       "3                          masc                       chose_masc\n",
       "4                          stim                            image\n",
       "5                          cond                  prime_condition"
      ]
     },
     "execution_count": 4,
     "metadata": {},
     "output_type": "execute_result"
    }
   ],
   "source": [
    "pd.DataFrame({'Original Study Variable Names': [\"id\", \"order\", \"prime\", \"masc\", \"stim\", \"cond\"], \n",
    "              'Reproduction Work Variable Names': [\"participant_id\", \"trial_number\", \"pre_post_prime\", \"chose_masc\", \"image\", \"prime_condition\"]})"
   ]
  },
  {
   "cell_type": "markdown",
   "id": "9a0cae58-f746-46ff-86e8-d8ad7db19191",
   "metadata": {},
   "source": [
    "A mapping from the prime condition group number to the group name:"
   ]
  },
  {
   "cell_type": "code",
   "execution_count": 5,
   "id": "2c8b948b-a7f9-4d4a-b2a5-63171a8725e1",
   "metadata": {},
   "outputs": [
    {
     "data": {
      "text/html": [
       "<div>\n",
       "<style scoped>\n",
       "    .dataframe tbody tr th:only-of-type {\n",
       "        vertical-align: middle;\n",
       "    }\n",
       "\n",
       "    .dataframe tbody tr th {\n",
       "        vertical-align: top;\n",
       "    }\n",
       "\n",
       "    .dataframe thead th {\n",
       "        text-align: right;\n",
       "    }\n",
       "</style>\n",
       "<table border=\"1\" class=\"dataframe\">\n",
       "  <thead>\n",
       "    <tr style=\"text-align: right;\">\n",
       "      <th></th>\n",
       "      <th>Prime condition group number</th>\n",
       "      <th>Prime condition group name</th>\n",
       "    </tr>\n",
       "  </thead>\n",
       "  <tbody>\n",
       "    <tr>\n",
       "      <th>0</th>\n",
       "      <td>1</td>\n",
       "      <td>Neutral (Control)</td>\n",
       "    </tr>\n",
       "    <tr>\n",
       "      <th>1</th>\n",
       "      <td>2</td>\n",
       "      <td>Male-on-Male</td>\n",
       "    </tr>\n",
       "    <tr>\n",
       "      <th>2</th>\n",
       "      <td>3</td>\n",
       "      <td>Male Intergroup</td>\n",
       "    </tr>\n",
       "    <tr>\n",
       "      <th>3</th>\n",
       "      <td>4</td>\n",
       "      <td>Male-on-Female</td>\n",
       "    </tr>\n",
       "    <tr>\n",
       "      <th>4</th>\n",
       "      <td>5</td>\n",
       "      <td>Pathogen</td>\n",
       "    </tr>\n",
       "  </tbody>\n",
       "</table>\n",
       "</div>"
      ],
      "text/plain": [
       "   Prime condition group number Prime condition group name\n",
       "0                             1          Neutral (Control)\n",
       "1                             2               Male-on-Male\n",
       "2                             3            Male Intergroup\n",
       "3                             4             Male-on-Female\n",
       "4                             5                   Pathogen"
      ]
     },
     "execution_count": 5,
     "metadata": {},
     "output_type": "execute_result"
    }
   ],
   "source": [
    "pd.DataFrame({'Prime condition group number': [1, 2, 3, 4, 5], \n",
    "              'Prime condition group name': [\"Neutral (Control)\", \"Male-on-Male\", \"Male Intergroup\", \"Male-on-Female\", \"Pathogen\"]})"
   ]
  },
  {
   "cell_type": "markdown",
   "id": "dcc012fe-be64-49f0-8cb8-7442dfa8ee87",
   "metadata": {},
   "source": [
    "## Fixing the datasets (duplicates and image 10 assignment)"
   ]
  },
  {
   "cell_type": "markdown",
   "id": "03c772db-f0cb-452e-b855-eb5d3f813db1",
   "metadata": {},
   "source": [
    "Removing all of the duplicate participants:"
   ]
  },
  {
   "cell_type": "code",
   "execution_count": 6,
   "id": "d291a932-f46f-4046-8be1-3ec6b63dda98",
   "metadata": {},
   "outputs": [],
   "source": [
    "def find_duplicates(data): \n",
    "    combs = combinations(list(data[\"id\"].unique()), 2)\n",
    "    matches = list()\n",
    "    for ids in combs:\n",
    "        id0_array = data[data[\"id\"]==ids[0]].iloc[:, 1:].values\n",
    "        id1_array = data[data[\"id\"]==ids[1]].iloc[:, 1:].values\n",
    "        if (ids[0] != ids[1]) and (id0_array.shape == id1_array.shape) and ((id0_array == id1_array).all()):\n",
    "            matches.append((ids[0], ids[1]))\n",
    "    return matches"
   ]
  },
  {
   "cell_type": "code",
   "execution_count": 7,
   "id": "5f19647f-4d26-4306-8bcf-15ca35c1bdca",
   "metadata": {},
   "outputs": [],
   "source": [
    "# removing duplicates in face dataset\n",
    "face_dups = find_duplicates(face)\n",
    "face_dups_id = [dup[1] for dup in face_dups]\n",
    "face_fixed = face[~face[\"id\"].isin(face_dups_id)]\n",
    "face_fixed = face_fixed.reset_index(drop=True)"
   ]
  },
  {
   "cell_type": "code",
   "execution_count": 8,
   "id": "d12a303d-d9d6-4b1b-a75f-c899a695df5c",
   "metadata": {},
   "outputs": [],
   "source": [
    "# removing duplicates in voice dataset\n",
    "voice_dups = find_duplicates(voice)\n",
    "# only participants with a \"b\" in the name are assumed to be duplicates\n",
    "# as the voice experiment had a much smaller number of trials (6), a repeated result could genuinely occur by chance\n",
    "voice_dups_id = [dup[1] for dup in voice_dups if \"b\" in dup[1]]\n",
    "voice_fixed = voice[~voice[\"id\"].isin(voice_dups_id)]\n",
    "voice_fixed = voice_fixed.reset_index(drop=True)"
   ]
  },
  {
   "cell_type": "markdown",
   "id": "305fb8f3-1914-4d69-a3e4-a05cb28d7468",
   "metadata": {},
   "source": [
    "Fixing the image 10 mistake (the wrong side was assigned as masculine):"
   ]
  },
  {
   "cell_type": "code",
   "execution_count": 9,
   "id": "4029a800-41e0-4a27-a690-5adf9af8f0f2",
   "metadata": {},
   "outputs": [],
   "source": [
    "face_fixed.update(face_fixed[face_fixed[\"stim\"]==\"faces\\Slide10.bmp\"][\"masc\"].map({0:1, 1:0}))\n",
    "face_fixed[\"masc\"] = face_fixed[\"masc\"].astype(\"int64\")"
   ]
  },
  {
   "cell_type": "raw",
   "id": "b682e217-58c4-4f0a-a3c9-4ccb5ade283d",
   "metadata": {},
   "source": [
    "face_fixed.to_csv(\"data/main_study_face_data_fixed.csv\", index=False)\n",
    "voice_fixed.to_csv(\"data/main_study_voice_data_fixed.csv\", index=False)"
   ]
  },
  {
   "cell_type": "markdown",
   "id": "7721e0a0-8a1a-45dc-b7ef-fb28da13a12f",
   "metadata": {},
   "source": [
    "## Recreating table 1 (main face study) <a name=\"tab1\"></a>"
   ]
  },
  {
   "cell_type": "code",
   "execution_count": 11,
   "id": "5b0a2a61-b8b7-4f85-80a6-918c614fe905",
   "metadata": {},
   "outputs": [],
   "source": [
    "%%R -i face_fixed -o model_df\n",
    "library(nlme)\n",
    "face_fixed$cond = as.factor(face_fixed$cond)\n",
    "model <- lme(masc ~ prime*cond, random=~1|id, data=face_fixed)\n",
    "model_df <- as.data.frame(coef(summary(model)))"
   ]
  },
  {
   "cell_type": "code",
   "execution_count": 12,
   "id": "8e4f0a3c-95d1-43e9-8e11-b3c1183e06f6",
   "metadata": {},
   "outputs": [],
   "source": [
    "face_table = model_df.reset_index()\n",
    "face_table.columns=[\"\", \"Estimate\", \"SE\", \"df\", \"t-value\", \"p-value\"]\n",
    "face_table[\"\"] = [\"Intercept\", \"Time\", \"Male-on-Male\", \"Male Intergroup\", \"Male-on-Female\", \"Pathogen\", \"Time*Male-on-Male\", \"Time*Male Intergroup\", \"Time*Male-on-Female\", \"Time*Pathogen\"]\n",
    "face_table[\"df\"] = face_table[\"df\"].astype(\"int64\")"
   ]
  },
  {
   "cell_type": "code",
   "execution_count": 13,
   "id": "ddda4ce4-b330-4f79-8091-b1a024c70c86",
   "metadata": {},
   "outputs": [
    {
     "data": {
      "text/html": [
       "<div>\n",
       "<style scoped>\n",
       "    .dataframe tbody tr th:only-of-type {\n",
       "        vertical-align: middle;\n",
       "    }\n",
       "\n",
       "    .dataframe tbody tr th {\n",
       "        vertical-align: top;\n",
       "    }\n",
       "\n",
       "    .dataframe thead th {\n",
       "        text-align: right;\n",
       "    }\n",
       "</style>\n",
       "<table border=\"1\" class=\"dataframe\">\n",
       "  <thead>\n",
       "    <tr style=\"text-align: right;\">\n",
       "      <th></th>\n",
       "      <th></th>\n",
       "      <th>Estimate</th>\n",
       "      <th>SE</th>\n",
       "      <th>df</th>\n",
       "      <th>t-value</th>\n",
       "      <th>p-value</th>\n",
       "    </tr>\n",
       "  </thead>\n",
       "  <tbody>\n",
       "    <tr>\n",
       "      <th>0</th>\n",
       "      <td>Intercept</td>\n",
       "      <td>0.580</td>\n",
       "      <td>0.026</td>\n",
       "      <td>10845</td>\n",
       "      <td>22.602</td>\n",
       "      <td>0.000</td>\n",
       "    </tr>\n",
       "    <tr>\n",
       "      <th>1</th>\n",
       "      <td>Time</td>\n",
       "      <td>0.071</td>\n",
       "      <td>0.019</td>\n",
       "      <td>10845</td>\n",
       "      <td>3.626</td>\n",
       "      <td>0.000</td>\n",
       "    </tr>\n",
       "    <tr>\n",
       "      <th>2</th>\n",
       "      <td>Male-on-Male</td>\n",
       "      <td>-0.060</td>\n",
       "      <td>0.036</td>\n",
       "      <td>286</td>\n",
       "      <td>-1.638</td>\n",
       "      <td>0.102</td>\n",
       "    </tr>\n",
       "    <tr>\n",
       "      <th>3</th>\n",
       "      <td>Male Intergroup</td>\n",
       "      <td>-0.059</td>\n",
       "      <td>0.037</td>\n",
       "      <td>286</td>\n",
       "      <td>-1.590</td>\n",
       "      <td>0.113</td>\n",
       "    </tr>\n",
       "    <tr>\n",
       "      <th>4</th>\n",
       "      <td>Male-on-Female</td>\n",
       "      <td>-0.001</td>\n",
       "      <td>0.036</td>\n",
       "      <td>286</td>\n",
       "      <td>-0.021</td>\n",
       "      <td>0.983</td>\n",
       "    </tr>\n",
       "    <tr>\n",
       "      <th>5</th>\n",
       "      <td>Pathogen</td>\n",
       "      <td>-0.011</td>\n",
       "      <td>0.036</td>\n",
       "      <td>286</td>\n",
       "      <td>-0.296</td>\n",
       "      <td>0.767</td>\n",
       "    </tr>\n",
       "    <tr>\n",
       "      <th>6</th>\n",
       "      <td>Time*Male-on-Male</td>\n",
       "      <td>-0.022</td>\n",
       "      <td>0.028</td>\n",
       "      <td>10845</td>\n",
       "      <td>-0.775</td>\n",
       "      <td>0.439</td>\n",
       "    </tr>\n",
       "    <tr>\n",
       "      <th>7</th>\n",
       "      <td>Time*Male Intergroup</td>\n",
       "      <td>0.018</td>\n",
       "      <td>0.028</td>\n",
       "      <td>10845</td>\n",
       "      <td>0.657</td>\n",
       "      <td>0.511</td>\n",
       "    </tr>\n",
       "    <tr>\n",
       "      <th>8</th>\n",
       "      <td>Time*Male-on-Female</td>\n",
       "      <td>-0.078</td>\n",
       "      <td>0.027</td>\n",
       "      <td>10845</td>\n",
       "      <td>-2.823</td>\n",
       "      <td>0.005</td>\n",
       "    </tr>\n",
       "    <tr>\n",
       "      <th>9</th>\n",
       "      <td>Time*Pathogen</td>\n",
       "      <td>-0.039</td>\n",
       "      <td>0.028</td>\n",
       "      <td>10845</td>\n",
       "      <td>-1.413</td>\n",
       "      <td>0.158</td>\n",
       "    </tr>\n",
       "  </tbody>\n",
       "</table>\n",
       "</div>"
      ],
      "text/plain": [
       "                         Estimate    SE     df  t-value  p-value\n",
       "0             Intercept     0.580 0.026  10845   22.602    0.000\n",
       "1                  Time     0.071 0.019  10845    3.626    0.000\n",
       "2          Male-on-Male    -0.060 0.036    286   -1.638    0.102\n",
       "3       Male Intergroup    -0.059 0.037    286   -1.590    0.113\n",
       "4        Male-on-Female    -0.001 0.036    286   -0.021    0.983\n",
       "5              Pathogen    -0.011 0.036    286   -0.296    0.767\n",
       "6     Time*Male-on-Male    -0.022 0.028  10845   -0.775    0.439\n",
       "7  Time*Male Intergroup     0.018 0.028  10845    0.657    0.511\n",
       "8   Time*Male-on-Female    -0.078 0.027  10845   -2.823    0.005\n",
       "9         Time*Pathogen    -0.039 0.028  10845   -1.413    0.158"
      ]
     },
     "metadata": {},
     "output_type": "display_data"
    }
   ],
   "source": [
    "with pd.option_context(\"display.float_format\", \"{:0.3f}\".format):\n",
    "    display(face_table)"
   ]
  },
  {
   "cell_type": "markdown",
   "id": "96533a3e-5fe5-41f7-ae8a-05b4b9639111",
   "metadata": {},
   "source": [
    "## Recreating figure 1 (main face study) <a name=\"fig1\"></a>"
   ]
  },
  {
   "cell_type": "code",
   "execution_count": 14,
   "id": "80f9c692-6133-4423-b887-fdadaad3a007",
   "metadata": {},
   "outputs": [
    {
     "data": {
      "image/png": "[encoded data removed]"
     },
     "metadata": {},
     "output_type": "display_data"
    }
   ],
   "source": [
    "%%R -i face_fixed\n",
    "library(sciplot)\n",
    "face_fixed$cond = as.factor(face_fixed$cond)\n",
    "plot <- lineplot.CI(x.factor=prime, response=masc, group=cond, data=face_fixed,\n",
    "            xlab=\"Time\", ylab=\"Mean Facial Masculinity Preference\",\n",
    "            fixed=T, x.leg=1.6, y.leg=0.53, ylim=c(0.48,0.68), lwd=3, col=c(\"red\",\"blue\",\"green\",\"orange\",\"purple\"),\n",
    "            leg.lab=c(\"Control\",\"Male-on-Male\",'Male Intergroup','Male-on-Female','Pathogen'))"
   ]
  },
  {
   "cell_type": "markdown",
   "id": "7786a149-b283-4e56-9903-1b9b27a762bc",
   "metadata": {},
   "source": [
    "## Recreating figure 2 (main voice study) <a name=\"fig2\"></a>"
   ]
  },
  {
   "cell_type": "code",
   "execution_count": 16,
   "id": "a8fcff3e-e5ef-4fca-b057-61e34c9d7a27",
   "metadata": {},
   "outputs": [
    {
     "data": {
      "image/png": "[encoded data removed]"
     },
     "metadata": {},
     "output_type": "display_data"
    }
   ],
   "source": [
    "%%R -i voice_fixed\n",
    "library(sciplot)\n",
    "voice_fixed$cond = as.factor(voice_fixed$cond)\n",
    "lineplot.CI(x.factor=order, response=masc, group=cond, data=voice_fixed,\n",
    "            xlab=\"Order\", ylab=\"Mean Vocal Masculinity Preference\",\n",
    "            fixed=T, x.leg=4, y.leg=4.8, lwd=3, col=c(\"red\",\"blue\",\"green\",\"orange\",\"purple\"),\n",
    "            leg.lab=c(\"Control\",\"Male-on-Male\",'Male Intergroup','Male-on-Female','Pathogen'))"
   ]
  },
  {
   "cell_type": "markdown",
   "id": "7747f798-7e3f-4787-9254-f6698fe74307",
   "metadata": {},
   "source": [
    "## Main Voice Study Model <a name=\"voice\"></a>"
   ]
  },
  {
   "cell_type": "markdown",
   "id": "35672bd8-7612-4c7d-bed8-82979cda4ee9",
   "metadata": {},
   "source": [
    "Model without interactions:"
   ]
  },
  {
   "cell_type": "code",
   "execution_count": 17,
   "id": "a72f10f1-5a0d-41ca-b1d9-c56835e6d875",
   "metadata": {},
   "outputs": [],
   "source": [
    "%%R -i voice_fixed -o model_df\n",
    "library(nlme)\n",
    "voice_fixed$cond = as.factor(voice_fixed$cond)\n",
    "model <- lme(masc ~ order + cond, random=~1|id, data=voice_fixed, method=\"ML\")\n",
    "model_df <- as.data.frame(coef(summary(model)))"
   ]
  },
  {
   "cell_type": "code",
   "execution_count": 18,
   "id": "4d295954-08e8-499a-811a-4bd185da0e2e",
   "metadata": {},
   "outputs": [],
   "source": [
    "voice_table = model_df.reset_index()\n",
    "voice_table.columns=[\"\", \"Estimate\", \"SE\", \"df\", \"t-value\", \"p-value\"]\n",
    "voice_table[\"\"] = [\"Intercept\", \"Order\", \"Male-on-Male\", \"Male Intergroup\", \"Male-on-Female\", \"Pathogen\"]\n",
    "voice_table[\"df\"] = voice_table[\"df\"].astype(\"int64\")"
   ]
  },
  {
   "cell_type": "code",
   "execution_count": 19,
   "id": "0ba633ae-2c5b-49cb-899d-b6cb03129450",
   "metadata": {},
   "outputs": [
    {
     "data": {
      "text/html": [
       "<div>\n",
       "<style scoped>\n",
       "    .dataframe tbody tr th:only-of-type {\n",
       "        vertical-align: middle;\n",
       "    }\n",
       "\n",
       "    .dataframe tbody tr th {\n",
       "        vertical-align: top;\n",
       "    }\n",
       "\n",
       "    .dataframe thead th {\n",
       "        text-align: right;\n",
       "    }\n",
       "</style>\n",
       "<table border=\"1\" class=\"dataframe\">\n",
       "  <thead>\n",
       "    <tr style=\"text-align: right;\">\n",
       "      <th></th>\n",
       "      <th></th>\n",
       "      <th>Estimate</th>\n",
       "      <th>SE</th>\n",
       "      <th>df</th>\n",
       "      <th>t-value</th>\n",
       "      <th>p-value</th>\n",
       "    </tr>\n",
       "  </thead>\n",
       "  <tbody>\n",
       "    <tr>\n",
       "      <th>0</th>\n",
       "      <td>Intercept</td>\n",
       "      <td>5.512</td>\n",
       "      <td>0.216</td>\n",
       "      <td>1454</td>\n",
       "      <td>25.492</td>\n",
       "      <td>0.000</td>\n",
       "    </tr>\n",
       "    <tr>\n",
       "      <th>1</th>\n",
       "      <td>Order</td>\n",
       "      <td>0.198</td>\n",
       "      <td>0.033</td>\n",
       "      <td>1454</td>\n",
       "      <td>5.969</td>\n",
       "      <td>0.000</td>\n",
       "    </tr>\n",
       "    <tr>\n",
       "      <th>2</th>\n",
       "      <td>Male-on-Male</td>\n",
       "      <td>-0.267</td>\n",
       "      <td>0.259</td>\n",
       "      <td>286</td>\n",
       "      <td>-1.028</td>\n",
       "      <td>0.305</td>\n",
       "    </tr>\n",
       "    <tr>\n",
       "      <th>3</th>\n",
       "      <td>Male Intergroup</td>\n",
       "      <td>-0.180</td>\n",
       "      <td>0.262</td>\n",
       "      <td>286</td>\n",
       "      <td>-0.687</td>\n",
       "      <td>0.493</td>\n",
       "    </tr>\n",
       "    <tr>\n",
       "      <th>4</th>\n",
       "      <td>Male-on-Female</td>\n",
       "      <td>-0.878</td>\n",
       "      <td>0.257</td>\n",
       "      <td>286</td>\n",
       "      <td>-3.417</td>\n",
       "      <td>0.001</td>\n",
       "    </tr>\n",
       "    <tr>\n",
       "      <th>5</th>\n",
       "      <td>Pathogen</td>\n",
       "      <td>-0.675</td>\n",
       "      <td>0.259</td>\n",
       "      <td>286</td>\n",
       "      <td>-2.602</td>\n",
       "      <td>0.010</td>\n",
       "    </tr>\n",
       "  </tbody>\n",
       "</table>\n",
       "</div>"
      ],
      "text/plain": [
       "                    Estimate    SE    df  t-value  p-value\n",
       "0        Intercept     5.512 0.216  1454   25.492    0.000\n",
       "1            Order     0.198 0.033  1454    5.969    0.000\n",
       "2     Male-on-Male    -0.267 0.259   286   -1.028    0.305\n",
       "3  Male Intergroup    -0.180 0.262   286   -0.687    0.493\n",
       "4   Male-on-Female    -0.878 0.257   286   -3.417    0.001\n",
       "5         Pathogen    -0.675 0.259   286   -2.602    0.010"
      ]
     },
     "metadata": {},
     "output_type": "display_data"
    }
   ],
   "source": [
    "with pd.option_context(\"display.float_format\", \"{:0.3f}\".format):\n",
    "    display(voice_table)"
   ]
  },
  {
   "cell_type": "markdown",
   "id": "649421d1-b10d-4ba0-89fe-65828285415f",
   "metadata": {},
   "source": [
    "Model with interactions:"
   ]
  },
  {
   "cell_type": "code",
   "execution_count": 20,
   "id": "53dfddad-8fbf-4cf8-b08b-25a757d44b7f",
   "metadata": {},
   "outputs": [],
   "source": [
    "%%R -i voice_fixed -o model_df\n",
    "library(nlme)\n",
    "voice_fixed$cond = as.factor(voice_fixed$cond)\n",
    "model <- lme(masc ~ order*cond, random=~1|id, data=voice_fixed, method=\"ML\")\n",
    "model_df <- as.data.frame(coef(summary(model)))"
   ]
  },
  {
   "cell_type": "code",
   "execution_count": 21,
   "id": "6704e6e1-7ec8-4623-b587-dc3210cacef7",
   "metadata": {},
   "outputs": [],
   "source": [
    "voice_table_int = model_df.reset_index()\n",
    "voice_table_int.columns=[\"\", \"Estimate\", \"SE\", \"df\", \"t-value\", \"p-value\"]\n",
    "voice_table_int[\"\"] = [\"Intercept\", \"Order\", \"Male-on-Male\", \"Male Intergroup\", \"Male-on-Female\", \"Pathogen\", \"Order*Male-on-Male\", \"Order*Male Intergroup\", \"Order*Male-on-Female\", \"Order*Pathogen\"]\n",
    "voice_table_int[\"df\"] = voice_table_int[\"df\"].astype(\"int64\")"
   ]
  },
  {
   "cell_type": "code",
   "execution_count": 22,
   "id": "668d2b50-0adf-4d24-a183-76bd3488305a",
   "metadata": {},
   "outputs": [
    {
     "data": {
      "text/html": [
       "<div>\n",
       "<style scoped>\n",
       "    .dataframe tbody tr th:only-of-type {\n",
       "        vertical-align: middle;\n",
       "    }\n",
       "\n",
       "    .dataframe tbody tr th {\n",
       "        vertical-align: top;\n",
       "    }\n",
       "\n",
       "    .dataframe thead th {\n",
       "        text-align: right;\n",
       "    }\n",
       "</style>\n",
       "<table border=\"1\" class=\"dataframe\">\n",
       "  <thead>\n",
       "    <tr style=\"text-align: right;\">\n",
       "      <th></th>\n",
       "      <th></th>\n",
       "      <th>Estimate</th>\n",
       "      <th>SE</th>\n",
       "      <th>df</th>\n",
       "      <th>t-value</th>\n",
       "      <th>p-value</th>\n",
       "    </tr>\n",
       "  </thead>\n",
       "  <tbody>\n",
       "    <tr>\n",
       "      <th>0</th>\n",
       "      <td>Intercept</td>\n",
       "      <td>5.627</td>\n",
       "      <td>0.315</td>\n",
       "      <td>1450</td>\n",
       "      <td>17.842</td>\n",
       "      <td>0.000</td>\n",
       "    </tr>\n",
       "    <tr>\n",
       "      <th>1</th>\n",
       "      <td>Order</td>\n",
       "      <td>0.165</td>\n",
       "      <td>0.073</td>\n",
       "      <td>1450</td>\n",
       "      <td>2.242</td>\n",
       "      <td>0.025</td>\n",
       "    </tr>\n",
       "    <tr>\n",
       "      <th>2</th>\n",
       "      <td>Male-on-Male</td>\n",
       "      <td>-0.221</td>\n",
       "      <td>0.448</td>\n",
       "      <td>286</td>\n",
       "      <td>-0.494</td>\n",
       "      <td>0.622</td>\n",
       "    </tr>\n",
       "    <tr>\n",
       "      <th>3</th>\n",
       "      <td>Male Intergroup</td>\n",
       "      <td>-0.150</td>\n",
       "      <td>0.452</td>\n",
       "      <td>286</td>\n",
       "      <td>-0.331</td>\n",
       "      <td>0.741</td>\n",
       "    </tr>\n",
       "    <tr>\n",
       "      <th>4</th>\n",
       "      <td>Male-on-Female</td>\n",
       "      <td>-1.590</td>\n",
       "      <td>0.444</td>\n",
       "      <td>286</td>\n",
       "      <td>-3.581</td>\n",
       "      <td>0.000</td>\n",
       "    </tr>\n",
       "    <tr>\n",
       "      <th>5</th>\n",
       "      <td>Pathogen</td>\n",
       "      <td>-0.591</td>\n",
       "      <td>0.448</td>\n",
       "      <td>286</td>\n",
       "      <td>-1.320</td>\n",
       "      <td>0.188</td>\n",
       "    </tr>\n",
       "    <tr>\n",
       "      <th>6</th>\n",
       "      <td>Order*Male-on-Male</td>\n",
       "      <td>-0.013</td>\n",
       "      <td>0.104</td>\n",
       "      <td>1450</td>\n",
       "      <td>-0.124</td>\n",
       "      <td>0.901</td>\n",
       "    </tr>\n",
       "    <tr>\n",
       "      <th>7</th>\n",
       "      <td>Order*Male Intergroup</td>\n",
       "      <td>-0.009</td>\n",
       "      <td>0.105</td>\n",
       "      <td>1450</td>\n",
       "      <td>-0.081</td>\n",
       "      <td>0.935</td>\n",
       "    </tr>\n",
       "    <tr>\n",
       "      <th>8</th>\n",
       "      <td>Order*Male-on-Female</td>\n",
       "      <td>0.203</td>\n",
       "      <td>0.103</td>\n",
       "      <td>1450</td>\n",
       "      <td>1.967</td>\n",
       "      <td>0.049</td>\n",
       "    </tr>\n",
       "    <tr>\n",
       "      <th>9</th>\n",
       "      <td>Order*Pathogen</td>\n",
       "      <td>-0.024</td>\n",
       "      <td>0.104</td>\n",
       "      <td>1450</td>\n",
       "      <td>-0.228</td>\n",
       "      <td>0.820</td>\n",
       "    </tr>\n",
       "  </tbody>\n",
       "</table>\n",
       "</div>"
      ],
      "text/plain": [
       "                          Estimate    SE    df  t-value  p-value\n",
       "0              Intercept     5.627 0.315  1450   17.842    0.000\n",
       "1                  Order     0.165 0.073  1450    2.242    0.025\n",
       "2           Male-on-Male    -0.221 0.448   286   -0.494    0.622\n",
       "3        Male Intergroup    -0.150 0.452   286   -0.331    0.741\n",
       "4         Male-on-Female    -1.590 0.444   286   -3.581    0.000\n",
       "5               Pathogen    -0.591 0.448   286   -1.320    0.188\n",
       "6     Order*Male-on-Male    -0.013 0.104  1450   -0.124    0.901\n",
       "7  Order*Male Intergroup    -0.009 0.105  1450   -0.081    0.935\n",
       "8   Order*Male-on-Female     0.203 0.103  1450    1.967    0.049\n",
       "9         Order*Pathogen    -0.024 0.104  1450   -0.228    0.820"
      ]
     },
     "metadata": {},
     "output_type": "display_data"
    }
   ],
   "source": [
    "with pd.option_context(\"display.float_format\", \"{:0.3f}\".format):\n",
    "    display(voice_table_int)"
   ]
  },
  {
   "cell_type": "markdown",
   "id": "a7d1e1fb-42fc-4854-a119-e1d5d703e989",
   "metadata": {},
   "source": [
    "## ANOVA models  <a name=\"anova\"></a>"
   ]
  },
  {
   "cell_type": "markdown",
   "id": "df3f1316-c9c0-4c67-953b-7e5f398d6aa6",
   "metadata": {},
   "source": [
    "ANOVA model for main face study:"
   ]
  },
  {
   "cell_type": "code",
   "execution_count": 23,
   "id": "ee56d1cf-b677-4959-8441-975269bc16f0",
   "metadata": {},
   "outputs": [
    {
     "name": "stdout",
     "output_type": "stream",
     "text": [
      "            numDF denDF  F-value p-value\n",
      "(Intercept)     1 10845 510.8395  <.0001\n",
      "prime           1 10845  13.1460  0.0003\n",
      "cond            4   286   1.3915  0.2369\n",
      "prime:cond      4 10845   3.5530  0.0067\n"
     ]
    }
   ],
   "source": [
    "%%R -i face_fixed\n",
    "library(nlme)\n",
    "face_fixed$cond = as.factor(face_fixed$cond)\n",
    "anova(lme(masc ~ prime*cond, random=~1|id, data=face_fixed), type=\"marginal\", adjustSigma=F)"
   ]
  },
  {
   "cell_type": "markdown",
   "id": "ff7882c4-6556-4ef8-82b6-b0f5acf7ad07",
   "metadata": {},
   "source": [
    "Priming group differences in face masculinity preference at pre-prime:"
   ]
  },
  {
   "cell_type": "code",
   "execution_count": 24,
   "id": "66811f8c-46fa-4675-8c7f-003ac14d7aa3",
   "metadata": {},
   "outputs": [],
   "source": [
    "face_pre = face_fixed[face_fixed[\"prime\"]==0]"
   ]
  },
  {
   "cell_type": "code",
   "execution_count": 25,
   "id": "95351b78-1b6c-4300-b076-04a2027191c1",
   "metadata": {},
   "outputs": [
    {
     "name": "stdout",
     "output_type": "stream",
     "text": [
      "            numDF denDF  F-value p-value\n",
      "(Intercept)     1  5176 569.5096  <.0001\n",
      "cond            4   286   1.5480  0.1884\n"
     ]
    }
   ],
   "source": [
    "%%R -i face_pre\n",
    "library(nlme)\n",
    "face_pre$cond = as.factor(face_pre$cond)\n",
    "anova(lme(masc ~ cond, random=~1|id, data=face_pre), type=\"marginal\", adjustSigma=F)"
   ]
  },
  {
   "cell_type": "markdown",
   "id": "365c116b-fb2b-43f4-aefe-e312bd879bac",
   "metadata": {
    "tags": []
   },
   "source": [
    "## Main face study model with order and time <a name=\"ordertime\"></a>"
   ]
  },
  {
   "cell_type": "code",
   "execution_count": 26,
   "id": "81fe8027-e7b6-4ebf-b850-31a5531d2868",
   "metadata": {},
   "outputs": [],
   "source": [
    "%%R -i face_fixed -o model_df\n",
    "library(nlme)\n",
    "face_fixed$cond = as.factor(face_fixed$cond)\n",
    "model <- lme(masc ~ order + prime*cond, random=~1|id, data=face_fixed)\n",
    "model_df <- as.data.frame(coef(summary(model)))"
   ]
  },
  {
   "cell_type": "code",
   "execution_count": 27,
   "id": "d689f5b5-3c03-42db-b4f9-ea40fbc868d9",
   "metadata": {},
   "outputs": [],
   "source": [
    "order_time = model_df.reset_index()\n",
    "order_time.columns=[\"\", \"Estimate\", \"SE\", \"df\", \"t-value\", \"p-value\"]\n",
    "order_time[\"\"] = [\"Intercept\", \"Order\", \"Time\", \"Male-on-Male\", \"Male Intergroup\", \"Male-on-Female\", \"Pathogen\", \"Time*Male-on-Male\", \"Time*Male Intergroup\", \"Time*Male-on-Female\", \"Time*Pathogen\"]\n",
    "order_time[\"df\"] = order_time[\"df\"].astype(\"int64\")"
   ]
  },
  {
   "cell_type": "code",
   "execution_count": 28,
   "id": "6dfdf7a0-8930-4682-aab1-cb8b3f011b96",
   "metadata": {},
   "outputs": [
    {
     "data": {
      "text/html": [
       "<div>\n",
       "<style scoped>\n",
       "    .dataframe tbody tr th:only-of-type {\n",
       "        vertical-align: middle;\n",
       "    }\n",
       "\n",
       "    .dataframe tbody tr th {\n",
       "        vertical-align: top;\n",
       "    }\n",
       "\n",
       "    .dataframe thead th {\n",
       "        text-align: right;\n",
       "    }\n",
       "</style>\n",
       "<table border=\"1\" class=\"dataframe\">\n",
       "  <thead>\n",
       "    <tr style=\"text-align: right;\">\n",
       "      <th></th>\n",
       "      <th></th>\n",
       "      <th>Estimate</th>\n",
       "      <th>SE</th>\n",
       "      <th>df</th>\n",
       "      <th>t-value</th>\n",
       "      <th>p-value</th>\n",
       "    </tr>\n",
       "  </thead>\n",
       "  <tbody>\n",
       "    <tr>\n",
       "      <th>0</th>\n",
       "      <td>Intercept</td>\n",
       "      <td>0.551</td>\n",
       "      <td>0.027</td>\n",
       "      <td>10844</td>\n",
       "      <td>20.434</td>\n",
       "      <td>0.000</td>\n",
       "    </tr>\n",
       "    <tr>\n",
       "      <th>1</th>\n",
       "      <td>Order</td>\n",
       "      <td>0.003</td>\n",
       "      <td>0.001</td>\n",
       "      <td>10844</td>\n",
       "      <td>3.547</td>\n",
       "      <td>0.000</td>\n",
       "    </tr>\n",
       "    <tr>\n",
       "      <th>2</th>\n",
       "      <td>Time</td>\n",
       "      <td>0.017</td>\n",
       "      <td>0.025</td>\n",
       "      <td>10844</td>\n",
       "      <td>0.673</td>\n",
       "      <td>0.501</td>\n",
       "    </tr>\n",
       "    <tr>\n",
       "      <th>3</th>\n",
       "      <td>Male-on-Male</td>\n",
       "      <td>-0.060</td>\n",
       "      <td>0.036</td>\n",
       "      <td>286</td>\n",
       "      <td>-1.638</td>\n",
       "      <td>0.102</td>\n",
       "    </tr>\n",
       "    <tr>\n",
       "      <th>4</th>\n",
       "      <td>Male Intergroup</td>\n",
       "      <td>-0.059</td>\n",
       "      <td>0.037</td>\n",
       "      <td>286</td>\n",
       "      <td>-1.593</td>\n",
       "      <td>0.112</td>\n",
       "    </tr>\n",
       "    <tr>\n",
       "      <th>5</th>\n",
       "      <td>Male-on-Female</td>\n",
       "      <td>-0.001</td>\n",
       "      <td>0.036</td>\n",
       "      <td>286</td>\n",
       "      <td>-0.024</td>\n",
       "      <td>0.981</td>\n",
       "    </tr>\n",
       "    <tr>\n",
       "      <th>6</th>\n",
       "      <td>Pathogen</td>\n",
       "      <td>-0.011</td>\n",
       "      <td>0.036</td>\n",
       "      <td>286</td>\n",
       "      <td>-0.296</td>\n",
       "      <td>0.768</td>\n",
       "    </tr>\n",
       "    <tr>\n",
       "      <th>7</th>\n",
       "      <td>Time*Male-on-Male</td>\n",
       "      <td>-0.022</td>\n",
       "      <td>0.028</td>\n",
       "      <td>10844</td>\n",
       "      <td>-0.779</td>\n",
       "      <td>0.436</td>\n",
       "    </tr>\n",
       "    <tr>\n",
       "      <th>8</th>\n",
       "      <td>Time*Male Intergroup</td>\n",
       "      <td>0.019</td>\n",
       "      <td>0.028</td>\n",
       "      <td>10844</td>\n",
       "      <td>0.661</td>\n",
       "      <td>0.508</td>\n",
       "    </tr>\n",
       "    <tr>\n",
       "      <th>9</th>\n",
       "      <td>Time*Male-on-Female</td>\n",
       "      <td>-0.078</td>\n",
       "      <td>0.027</td>\n",
       "      <td>10844</td>\n",
       "      <td>-2.829</td>\n",
       "      <td>0.005</td>\n",
       "    </tr>\n",
       "    <tr>\n",
       "      <th>10</th>\n",
       "      <td>Time*Pathogen</td>\n",
       "      <td>-0.039</td>\n",
       "      <td>0.028</td>\n",
       "      <td>10844</td>\n",
       "      <td>-1.417</td>\n",
       "      <td>0.157</td>\n",
       "    </tr>\n",
       "  </tbody>\n",
       "</table>\n",
       "</div>"
      ],
      "text/plain": [
       "                          Estimate    SE     df  t-value  p-value\n",
       "0              Intercept     0.551 0.027  10844   20.434    0.000\n",
       "1                  Order     0.003 0.001  10844    3.547    0.000\n",
       "2                   Time     0.017 0.025  10844    0.673    0.501\n",
       "3           Male-on-Male    -0.060 0.036    286   -1.638    0.102\n",
       "4        Male Intergroup    -0.059 0.037    286   -1.593    0.112\n",
       "5         Male-on-Female    -0.001 0.036    286   -0.024    0.981\n",
       "6               Pathogen    -0.011 0.036    286   -0.296    0.768\n",
       "7      Time*Male-on-Male    -0.022 0.028  10844   -0.779    0.436\n",
       "8   Time*Male Intergroup     0.019 0.028  10844    0.661    0.508\n",
       "9    Time*Male-on-Female    -0.078 0.027  10844   -2.829    0.005\n",
       "10         Time*Pathogen    -0.039 0.028  10844   -1.417    0.157"
      ]
     },
     "metadata": {},
     "output_type": "display_data"
    }
   ],
   "source": [
    "with pd.option_context(\"display.float_format\", \"{:0.3f}\".format):\n",
    "    display(order_time)"
   ]
  },
  {
   "cell_type": "markdown",
   "id": "39793df7-a79e-4526-afaf-b4631a413b59",
   "metadata": {},
   "source": [
    "## Main face study model with order and time and stimulus as random factor <a name=\"ordertimestim\"></a>"
   ]
  },
  {
   "cell_type": "code",
   "execution_count": 31,
   "id": "05aca262-cf5e-4816-ae67-c4f7acbff8eb",
   "metadata": {},
   "outputs": [],
   "source": [
    "%%R -i face_fixed -o model_df\n",
    "library(lme4)\n",
    "face_fixed$cond = as.factor(face_fixed$cond)\n",
    "model <- glmer(masc ~ order + prime*cond + (1|id) + (1|stim), data=face_fixed, family=binomial)\n",
    "model_df <- as.data.frame(coef(summary(model)))"
   ]
  },
  {
   "cell_type": "code",
   "execution_count": 32,
   "id": "da841594-ed2b-43af-9a28-9299e3f391a8",
   "metadata": {},
   "outputs": [],
   "source": [
    "order_time_stim = model_df.reset_index()\n",
    "order_time_stim.columns=[\"\", \"Estimate\", \"SE\", \"z-value\", \"p-value\"]\n",
    "order_time_stim[\"\"] = [\"Intercept\", \"Order\", \"Time\", \"Male-on-Male\", \"Male Intergroup\", \"Male-on-Female\", \"Pathogen\", \"Time*Male-on-Male\", \"Time*Male Intergroup\", \"Time*Male-on-Female\", \"Time*Pathogen\"]"
   ]
  },
  {
   "cell_type": "code",
   "execution_count": 33,
   "id": "d8aaeaf8-8fa0-40d7-b46a-b982e338583c",
   "metadata": {},
   "outputs": [
    {
     "data": {
      "text/html": [
       "<div>\n",
       "<style scoped>\n",
       "    .dataframe tbody tr th:only-of-type {\n",
       "        vertical-align: middle;\n",
       "    }\n",
       "\n",
       "    .dataframe tbody tr th {\n",
       "        vertical-align: top;\n",
       "    }\n",
       "\n",
       "    .dataframe thead th {\n",
       "        text-align: right;\n",
       "    }\n",
       "</style>\n",
       "<table border=\"1\" class=\"dataframe\">\n",
       "  <thead>\n",
       "    <tr style=\"text-align: right;\">\n",
       "      <th></th>\n",
       "      <th></th>\n",
       "      <th>Estimate</th>\n",
       "      <th>SE</th>\n",
       "      <th>z-value</th>\n",
       "      <th>p-value</th>\n",
       "    </tr>\n",
       "  </thead>\n",
       "  <tbody>\n",
       "    <tr>\n",
       "      <th>0</th>\n",
       "      <td>Intercept</td>\n",
       "      <td>0.244</td>\n",
       "      <td>0.201</td>\n",
       "      <td>1.214</td>\n",
       "      <td>0.225</td>\n",
       "    </tr>\n",
       "    <tr>\n",
       "      <th>1</th>\n",
       "      <td>Order</td>\n",
       "      <td>0.014</td>\n",
       "      <td>0.004</td>\n",
       "      <td>3.721</td>\n",
       "      <td>0.000</td>\n",
       "    </tr>\n",
       "    <tr>\n",
       "      <th>2</th>\n",
       "      <td>Time</td>\n",
       "      <td>0.097</td>\n",
       "      <td>0.121</td>\n",
       "      <td>0.801</td>\n",
       "      <td>0.423</td>\n",
       "    </tr>\n",
       "    <tr>\n",
       "      <th>3</th>\n",
       "      <td>Male-on-Male</td>\n",
       "      <td>-0.282</td>\n",
       "      <td>0.183</td>\n",
       "      <td>-1.540</td>\n",
       "      <td>0.124</td>\n",
       "    </tr>\n",
       "    <tr>\n",
       "      <th>4</th>\n",
       "      <td>Male Intergroup</td>\n",
       "      <td>-0.296</td>\n",
       "      <td>0.185</td>\n",
       "      <td>-1.596</td>\n",
       "      <td>0.110</td>\n",
       "    </tr>\n",
       "    <tr>\n",
       "      <th>5</th>\n",
       "      <td>Male-on-Female</td>\n",
       "      <td>0.003</td>\n",
       "      <td>0.182</td>\n",
       "      <td>0.017</td>\n",
       "      <td>0.986</td>\n",
       "    </tr>\n",
       "    <tr>\n",
       "      <th>6</th>\n",
       "      <td>Pathogen</td>\n",
       "      <td>-0.043</td>\n",
       "      <td>0.183</td>\n",
       "      <td>-0.235</td>\n",
       "      <td>0.814</td>\n",
       "    </tr>\n",
       "    <tr>\n",
       "      <th>7</th>\n",
       "      <td>Time*Male-on-Male</td>\n",
       "      <td>-0.126</td>\n",
       "      <td>0.135</td>\n",
       "      <td>-0.934</td>\n",
       "      <td>0.350</td>\n",
       "    </tr>\n",
       "    <tr>\n",
       "      <th>8</th>\n",
       "      <td>Time*Male Intergroup</td>\n",
       "      <td>0.089</td>\n",
       "      <td>0.137</td>\n",
       "      <td>0.650</td>\n",
       "      <td>0.516</td>\n",
       "    </tr>\n",
       "    <tr>\n",
       "      <th>9</th>\n",
       "      <td>Time*Male-on-Female</td>\n",
       "      <td>-0.402</td>\n",
       "      <td>0.134</td>\n",
       "      <td>-3.008</td>\n",
       "      <td>0.003</td>\n",
       "    </tr>\n",
       "    <tr>\n",
       "      <th>10</th>\n",
       "      <td>Time*Pathogen</td>\n",
       "      <td>-0.212</td>\n",
       "      <td>0.135</td>\n",
       "      <td>-1.570</td>\n",
       "      <td>0.116</td>\n",
       "    </tr>\n",
       "  </tbody>\n",
       "</table>\n",
       "</div>"
      ],
      "text/plain": [
       "                          Estimate    SE  z-value  p-value\n",
       "0              Intercept     0.244 0.201    1.214    0.225\n",
       "1                  Order     0.014 0.004    3.721    0.000\n",
       "2                   Time     0.097 0.121    0.801    0.423\n",
       "3           Male-on-Male    -0.282 0.183   -1.540    0.124\n",
       "4        Male Intergroup    -0.296 0.185   -1.596    0.110\n",
       "5         Male-on-Female     0.003 0.182    0.017    0.986\n",
       "6               Pathogen    -0.043 0.183   -0.235    0.814\n",
       "7      Time*Male-on-Male    -0.126 0.135   -0.934    0.350\n",
       "8   Time*Male Intergroup     0.089 0.137    0.650    0.516\n",
       "9    Time*Male-on-Female    -0.402 0.134   -3.008    0.003\n",
       "10         Time*Pathogen    -0.212 0.135   -1.570    0.116"
      ]
     },
     "metadata": {},
     "output_type": "display_data"
    }
   ],
   "source": [
    "with pd.option_context(\"display.float_format\", \"{:0.3f}\".format):\n",
    "    display(order_time_stim)"
   ]
  }
 ],
 "metadata": {
  "kernelspec": {
   "display_name": "Python 3 (ipykernel)",
   "language": "python",
   "name": "python3"
  },
  "language_info": {
   "codemirror_mode": {
    "name": "ipython",
    "version": 3
   },
   "file_extension": ".py",
   "mimetype": "text/x-python",
   "name": "python",
   "nbconvert_exporter": "python",
   "pygments_lexer": "ipython3",
   "version": "3.9.12"
  }
 },
 "nbformat": 4,
 "nbformat_minor": 5
}
