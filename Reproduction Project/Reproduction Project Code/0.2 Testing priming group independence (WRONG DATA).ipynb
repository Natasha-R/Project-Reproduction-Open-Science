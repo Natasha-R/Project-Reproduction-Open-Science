{
 "cells": [
  {
   "cell_type": "markdown",
   "id": "36fae6ad-8aa6-461c-abdd-8a10150b3896",
   "metadata": {},
   "source": [
    "# !WARNING!\n",
    "\n",
    "In the original study, participants were shown a pair of faces in each trial: one face masculinised and one feminised. They then had to choose their preferred face. Which side the masculinised face was on (left or right) was randomised between trials.\n",
    "\n",
    "In these notebooks, this dataset was analysed under the false assumption that the variable \"side_of_response\" corresponds to the participants choice of the \"left\" or \"right\" face, and therefore needed firstly to be mapped to a new variable, indicating whether the participant chose a masculine or feminine face - variable: \"chose_masc\". The mapping to \"chose_masc\" was created by viewing the masculinised/feminised images (not provided) to see which side (left or right) corresponded to the masculine or feminine.\n",
    "\n",
    "**However the variable \"side_of_response\" (left=0, right=1) actually already corresponds to the variable \"participant chose masculinised face\" (feminised=0, masculinised=1).** Therefore the 3 analyses in the notebooks:  \n",
    "* 0.1 Cleaning and Exploring Data (WRONG DATA).ipynb\n",
    "* 0.2 Testing priming group independence (WRONG DATA).ipynb\n",
    "* 0.3 Masculinity over 'time' (WRONG DATA).ipynb  \n",
    "\n",
    "Are working with incorrectly interpreted data, and thus their analyses are also incorrect. \n",
    "\n",
    "The correct dataset and analyses are included in the notebooks:\n",
    "* 1. Cleaning and Exploring Data.ipynb\n",
    "* 2. Masculinity preferences by priming group.ipynb\n",
    "* 3. Masculinity over 'time'.ipynb  \n",
    "* 4. Modelling the data.ipynb\n",
    "\n",
    "However these original incorrect notebooks are included within the project files for transparency, and to discourage similar mistakes being made by others re-using the dataset!"
   ]
  },
  {
   "cell_type": "code",
   "execution_count": 2,
   "id": "5cd6e519-d170-4abd-8f58-66d40131f17b",
   "metadata": {},
   "outputs": [],
   "source": [
    "import pandas as pd\n",
    "import numpy as np\n",
    "import matplotlib.pyplot as plt\n",
    "import seaborn as sns\n",
    "from scipy import stats\n",
    "import statsmodels.api as sm"
   ]
  },
  {
   "cell_type": "markdown",
   "id": "e6317ad6-2df1-4595-adce-16b67dd8ac97",
   "metadata": {},
   "source": [
    "## Importing and pre-processing the data"
   ]
  },
  {
   "cell_type": "code",
   "execution_count": 3,
   "id": "0d581d64-e8b8-4ed0-91be-a6c3f3632ef9",
   "metadata": {},
   "outputs": [],
   "source": [
    "# importing the data\n",
    "data = pd.read_csv(\"../Main Study (Face)/main_study_face_data_modified_WRONG.csv\")"
   ]
  },
  {
   "cell_type": "code",
   "execution_count": 4,
   "id": "9b356cd3-6040-4375-94cc-e5ea195e47f1",
   "metadata": {},
   "outputs": [],
   "source": [
    "# converting the boolean variable to integers, so it can be plotted\n",
    "data[\"chose_masc_numerical\"] = data[\"chose_masc\"].map({True: 1, False: 0})"
   ]
  },
  {
   "cell_type": "code",
   "execution_count": 5,
   "id": "e89d2ce4-d5b9-48f1-8f27-98920bce17e9",
   "metadata": {},
   "outputs": [],
   "source": [
    "# converting the numerical prime conditions to the actual named condition, for clarity\n",
    "data[\"prime_condition_names\"] = data[\"prime_condition\"].map({1:\"neutral\",\n",
    "                                                             2:\"male/male\",\n",
    "                                                             3:\"male group\",\n",
    "                                                             4:\"male/female\",\n",
    "                                                             5:\"pathogen\"})                                   "
   ]
  },
  {
   "cell_type": "code",
   "execution_count": 27,
   "id": "b2eddc26-fc62-42c7-8095-2130bca74927",
   "metadata": {},
   "outputs": [],
   "source": [
    "# converting the pre/post prime indicators to words, for clarity\n",
    "data[\"pre_post_prime_name\"] = data[\"pre_post_prime\"].map({0:\"pre-prime\",     \n",
    "                                                          1:\"post-prime\"})"
   ]
  },
  {
   "cell_type": "code",
   "execution_count": 28,
   "id": "fd1af557-15b1-4df2-b152-5aa95693b157",
   "metadata": {
    "tags": []
   },
   "outputs": [
    {
     "data": {
      "text/html": [
       "<div>\n",
       "<style scoped>\n",
       "    .dataframe tbody tr th:only-of-type {\n",
       "        vertical-align: middle;\n",
       "    }\n",
       "\n",
       "    .dataframe tbody tr th {\n",
       "        vertical-align: top;\n",
       "    }\n",
       "\n",
       "    .dataframe thead th {\n",
       "        text-align: right;\n",
       "    }\n",
       "</style>\n",
       "<table border=\"1\" class=\"dataframe\">\n",
       "  <thead>\n",
       "    <tr style=\"text-align: right;\">\n",
       "      <th></th>\n",
       "      <th>participant_id</th>\n",
       "      <th>trial_number</th>\n",
       "      <th>pre_post_prime</th>\n",
       "      <th>side_of_response</th>\n",
       "      <th>image</th>\n",
       "      <th>prime_condition</th>\n",
       "      <th>masc_side</th>\n",
       "      <th>chose_masc</th>\n",
       "      <th>chose_masc_numerical</th>\n",
       "      <th>prime_condition_names</th>\n",
       "      <th>pre_post_prime_name</th>\n",
       "    </tr>\n",
       "  </thead>\n",
       "  <tbody>\n",
       "    <tr>\n",
       "      <th>0</th>\n",
       "      <td>11</td>\n",
       "      <td>2</td>\n",
       "      <td>0</td>\n",
       "      <td>0</td>\n",
       "      <td>Slide11.bmp</td>\n",
       "      <td>1</td>\n",
       "      <td>0</td>\n",
       "      <td>True</td>\n",
       "      <td>1</td>\n",
       "      <td>neutral</td>\n",
       "      <td>pre-prime</td>\n",
       "    </tr>\n",
       "    <tr>\n",
       "      <th>1</th>\n",
       "      <td>11</td>\n",
       "      <td>3</td>\n",
       "      <td>0</td>\n",
       "      <td>1</td>\n",
       "      <td>Slide9.bmp</td>\n",
       "      <td>1</td>\n",
       "      <td>1</td>\n",
       "      <td>True</td>\n",
       "      <td>1</td>\n",
       "      <td>neutral</td>\n",
       "      <td>pre-prime</td>\n",
       "    </tr>\n",
       "    <tr>\n",
       "      <th>2</th>\n",
       "      <td>11</td>\n",
       "      <td>4</td>\n",
       "      <td>0</td>\n",
       "      <td>0</td>\n",
       "      <td>Slide5.bmp</td>\n",
       "      <td>1</td>\n",
       "      <td>1</td>\n",
       "      <td>False</td>\n",
       "      <td>0</td>\n",
       "      <td>neutral</td>\n",
       "      <td>pre-prime</td>\n",
       "    </tr>\n",
       "    <tr>\n",
       "      <th>3</th>\n",
       "      <td>11</td>\n",
       "      <td>5</td>\n",
       "      <td>0</td>\n",
       "      <td>1</td>\n",
       "      <td>Slide1.bmp</td>\n",
       "      <td>1</td>\n",
       "      <td>1</td>\n",
       "      <td>True</td>\n",
       "      <td>1</td>\n",
       "      <td>neutral</td>\n",
       "      <td>pre-prime</td>\n",
       "    </tr>\n",
       "    <tr>\n",
       "      <th>4</th>\n",
       "      <td>11</td>\n",
       "      <td>6</td>\n",
       "      <td>0</td>\n",
       "      <td>1</td>\n",
       "      <td>Slide18.bmp</td>\n",
       "      <td>1</td>\n",
       "      <td>1</td>\n",
       "      <td>True</td>\n",
       "      <td>1</td>\n",
       "      <td>neutral</td>\n",
       "      <td>pre-prime</td>\n",
       "    </tr>\n",
       "  </tbody>\n",
       "</table>\n",
       "</div>"
      ],
      "text/plain": [
       "  participant_id  trial_number  pre_post_prime  side_of_response        image  \\\n",
       "0             11             2               0                 0  Slide11.bmp   \n",
       "1             11             3               0                 1   Slide9.bmp   \n",
       "2             11             4               0                 0   Slide5.bmp   \n",
       "3             11             5               0                 1   Slide1.bmp   \n",
       "4             11             6               0                 1  Slide18.bmp   \n",
       "\n",
       "   prime_condition  masc_side  chose_masc  chose_masc_numerical  \\\n",
       "0                1          0        True                     1   \n",
       "1                1          1        True                     1   \n",
       "2                1          1       False                     0   \n",
       "3                1          1        True                     1   \n",
       "4                1          1        True                     1   \n",
       "\n",
       "  prime_condition_names pre_post_prime_name  \n",
       "0               neutral           pre-prime  \n",
       "1               neutral           pre-prime  \n",
       "2               neutral           pre-prime  \n",
       "3               neutral           pre-prime  \n",
       "4               neutral           pre-prime  "
      ]
     },
     "execution_count": 28,
     "metadata": {},
     "output_type": "execute_result"
    }
   ],
   "source": [
    "data.head()"
   ]
  },
  {
   "cell_type": "code",
   "execution_count": 29,
   "id": "fd8cf57f-57fa-4c7e-a8b1-f9ff1f1b2ec7",
   "metadata": {},
   "outputs": [],
   "source": [
    "# creating a dataset containing only the post-prime values\n",
    "only_post = data[data[\"pre_post_prime\"]==1]"
   ]
  },
  {
   "cell_type": "code",
   "execution_count": 30,
   "id": "433dfef9-074a-4d19-b0f7-792dffd0e514",
   "metadata": {},
   "outputs": [],
   "source": [
    "# creating a dataset containing only the pre-prime values\n",
    "only_pre = data[data[\"pre_post_prime\"]==0]"
   ]
  },
  {
   "cell_type": "markdown",
   "id": "e44537db-177c-4ea1-90ef-d014c49dd4e7",
   "metadata": {},
   "source": [
    "## Are there any differences in masculinity preferences between the priming groups, pre-prime?\n",
    "(if no, then suggests we can analyse only the post-prime data alone later)"
   ]
  },
  {
   "cell_type": "code",
   "execution_count": 31,
   "id": "aea78546-52fa-481e-89a8-d44872cdfe3a",
   "metadata": {},
   "outputs": [
    {
     "data": {
      "text/html": [
       "<div>\n",
       "<style scoped>\n",
       "    .dataframe tbody tr th:only-of-type {\n",
       "        vertical-align: middle;\n",
       "    }\n",
       "\n",
       "    .dataframe tbody tr th {\n",
       "        vertical-align: top;\n",
       "    }\n",
       "\n",
       "    .dataframe thead th {\n",
       "        text-align: right;\n",
       "    }\n",
       "</style>\n",
       "<table border=\"1\" class=\"dataframe\">\n",
       "  <thead>\n",
       "    <tr style=\"text-align: right;\">\n",
       "      <th></th>\n",
       "      <th>count</th>\n",
       "      <th>mean</th>\n",
       "      <th>std</th>\n",
       "      <th>min</th>\n",
       "      <th>25%</th>\n",
       "      <th>50%</th>\n",
       "      <th>75%</th>\n",
       "      <th>max</th>\n",
       "    </tr>\n",
       "    <tr>\n",
       "      <th>prime_condition_names</th>\n",
       "      <th></th>\n",
       "      <th></th>\n",
       "      <th></th>\n",
       "      <th></th>\n",
       "      <th></th>\n",
       "      <th></th>\n",
       "      <th></th>\n",
       "      <th></th>\n",
       "    </tr>\n",
       "  </thead>\n",
       "  <tbody>\n",
       "    <tr>\n",
       "      <th>male group</th>\n",
       "      <td>1198.0</td>\n",
       "      <td>0.585142</td>\n",
       "      <td>0.492903</td>\n",
       "      <td>0.0</td>\n",
       "      <td>0.0</td>\n",
       "      <td>1.0</td>\n",
       "      <td>1.0</td>\n",
       "      <td>1.0</td>\n",
       "    </tr>\n",
       "    <tr>\n",
       "      <th>male/female</th>\n",
       "      <td>1283.0</td>\n",
       "      <td>0.556508</td>\n",
       "      <td>0.496990</td>\n",
       "      <td>0.0</td>\n",
       "      <td>0.0</td>\n",
       "      <td>1.0</td>\n",
       "      <td>1.0</td>\n",
       "      <td>1.0</td>\n",
       "    </tr>\n",
       "    <tr>\n",
       "      <th>male/male</th>\n",
       "      <td>1251.0</td>\n",
       "      <td>0.549161</td>\n",
       "      <td>0.497776</td>\n",
       "      <td>0.0</td>\n",
       "      <td>0.0</td>\n",
       "      <td>1.0</td>\n",
       "      <td>1.0</td>\n",
       "      <td>1.0</td>\n",
       "    </tr>\n",
       "    <tr>\n",
       "      <th>neutral</th>\n",
       "      <td>1281.0</td>\n",
       "      <td>0.545667</td>\n",
       "      <td>0.498105</td>\n",
       "      <td>0.0</td>\n",
       "      <td>0.0</td>\n",
       "      <td>1.0</td>\n",
       "      <td>1.0</td>\n",
       "      <td>1.0</td>\n",
       "    </tr>\n",
       "    <tr>\n",
       "      <th>pathogen</th>\n",
       "      <td>1204.0</td>\n",
       "      <td>0.583056</td>\n",
       "      <td>0.493258</td>\n",
       "      <td>0.0</td>\n",
       "      <td>0.0</td>\n",
       "      <td>1.0</td>\n",
       "      <td>1.0</td>\n",
       "      <td>1.0</td>\n",
       "    </tr>\n",
       "  </tbody>\n",
       "</table>\n",
       "</div>"
      ],
      "text/plain": [
       "                        count      mean       std  min  25%  50%  75%  max\n",
       "prime_condition_names                                                     \n",
       "male group             1198.0  0.585142  0.492903  0.0  0.0  1.0  1.0  1.0\n",
       "male/female            1283.0  0.556508  0.496990  0.0  0.0  1.0  1.0  1.0\n",
       "male/male              1251.0  0.549161  0.497776  0.0  0.0  1.0  1.0  1.0\n",
       "neutral                1281.0  0.545667  0.498105  0.0  0.0  1.0  1.0  1.0\n",
       "pathogen               1204.0  0.583056  0.493258  0.0  0.0  1.0  1.0  1.0"
      ]
     },
     "execution_count": 31,
     "metadata": {},
     "output_type": "execute_result"
    }
   ],
   "source": [
    "only_pre.groupby(\"prime_condition_names\")[\"chose_masc_numerical\"].describe()"
   ]
  },
  {
   "cell_type": "code",
   "execution_count": 32,
   "id": "949ba28e-b3a4-49df-a4b9-4b06a775268a",
   "metadata": {},
   "outputs": [
    {
     "data": {
      "text/plain": [
       "<AxesSubplot:xlabel='prime_condition_names'>"
      ]
     },
     "execution_count": 32,
     "metadata": {},
     "output_type": "execute_result"
    },
    {
     "data": {
      "image/png": "[encoded data removed]",
      "text/plain": [
       "<Figure size 432x288 with 1 Axes>"
      ]
     },
     "metadata": {
      "needs_background": "light"
     },
     "output_type": "display_data"
    }
   ],
   "source": [
    "only_pre.groupby(\"prime_condition_names\")[\"chose_masc_numerical\"].describe()[\"mean\"].plot.bar()"
   ]
  },
  {
   "cell_type": "markdown",
   "id": "6ee56108-e723-413d-9766-3cb6461f4a09",
   "metadata": {},
   "source": [
    "Groups 3 and 5 have a slightly increased preference for masculinity compared to the other groups. As this is pre-prime, we should not expect to see any differences, unless the group assignments failed to be random enough."
   ]
  },
  {
   "cell_type": "code",
   "execution_count": 33,
   "id": "1b5f2f00-e0cd-4729-bdba-30412eafc0ea",
   "metadata": {},
   "outputs": [
    {
     "data": {
      "text/html": [
       "<div>\n",
       "<style scoped>\n",
       "    .dataframe tbody tr th:only-of-type {\n",
       "        vertical-align: middle;\n",
       "    }\n",
       "\n",
       "    .dataframe tbody tr th {\n",
       "        vertical-align: top;\n",
       "    }\n",
       "\n",
       "    .dataframe thead th {\n",
       "        text-align: right;\n",
       "    }\n",
       "</style>\n",
       "<table border=\"1\" class=\"dataframe\">\n",
       "  <thead>\n",
       "    <tr style=\"text-align: right;\">\n",
       "      <th>chose_masc_numerical</th>\n",
       "      <th>0</th>\n",
       "      <th>1</th>\n",
       "    </tr>\n",
       "    <tr>\n",
       "      <th>prime_condition_names</th>\n",
       "      <th></th>\n",
       "      <th></th>\n",
       "    </tr>\n",
       "  </thead>\n",
       "  <tbody>\n",
       "    <tr>\n",
       "      <th>male group</th>\n",
       "      <td>497</td>\n",
       "      <td>701</td>\n",
       "    </tr>\n",
       "    <tr>\n",
       "      <th>male/female</th>\n",
       "      <td>569</td>\n",
       "      <td>714</td>\n",
       "    </tr>\n",
       "    <tr>\n",
       "      <th>male/male</th>\n",
       "      <td>564</td>\n",
       "      <td>687</td>\n",
       "    </tr>\n",
       "    <tr>\n",
       "      <th>neutral</th>\n",
       "      <td>582</td>\n",
       "      <td>699</td>\n",
       "    </tr>\n",
       "    <tr>\n",
       "      <th>pathogen</th>\n",
       "      <td>502</td>\n",
       "      <td>702</td>\n",
       "    </tr>\n",
       "  </tbody>\n",
       "</table>\n",
       "</div>"
      ],
      "text/plain": [
       "chose_masc_numerical     0    1\n",
       "prime_condition_names          \n",
       "male group             497  701\n",
       "male/female            569  714\n",
       "male/male              564  687\n",
       "neutral                582  699\n",
       "pathogen               502  702"
      ]
     },
     "execution_count": 33,
     "metadata": {},
     "output_type": "execute_result"
    }
   ],
   "source": [
    "# Doing a chi squared test of independence\n",
    "pre_contingency = pd.crosstab(only_pre[\"prime_condition_names\"], only_pre[\"chose_masc_numerical\"])\n",
    "pre_contingency"
   ]
  },
  {
   "cell_type": "code",
   "execution_count": 34,
   "id": "0d34187e-c8b6-449b-8447-8c8ef1c9300e",
   "metadata": {},
   "outputs": [],
   "source": [
    "chi2_pre, p_pre, dof_pre, expected_pre = stats.chi2_contingency(pre_contingency, correction=False)"
   ]
  },
  {
   "cell_type": "code",
   "execution_count": 35,
   "id": "179e5be7-0198-4045-b931-3fd19cb82590",
   "metadata": {},
   "outputs": [
    {
     "name": "stdout",
     "output_type": "stream",
     "text": [
      "7.110027090471261 0.1301867864624772\n"
     ]
    }
   ],
   "source": [
    "# the p value is not significant - therefore all of the groups assignments seem evenly distributed\n",
    "print(chi2_pre, p_pre)"
   ]
  },
  {
   "cell_type": "code",
   "execution_count": 36,
   "id": "a1a756a9-b61b-4e8d-b4a6-db8502115f9e",
   "metadata": {},
   "outputs": [
    {
     "data": {
      "text/html": [
       "<div>\n",
       "<style scoped>\n",
       "    .dataframe tbody tr th:only-of-type {\n",
       "        vertical-align: middle;\n",
       "    }\n",
       "\n",
       "    .dataframe tbody tr th {\n",
       "        vertical-align: top;\n",
       "    }\n",
       "\n",
       "    .dataframe thead th {\n",
       "        text-align: right;\n",
       "    }\n",
       "</style>\n",
       "<table border=\"1\" class=\"dataframe\">\n",
       "  <thead>\n",
       "    <tr style=\"text-align: right;\">\n",
       "      <th></th>\n",
       "      <th>0</th>\n",
       "      <th>1</th>\n",
       "    </tr>\n",
       "  </thead>\n",
       "  <tbody>\n",
       "    <tr>\n",
       "      <th>0</th>\n",
       "      <td>522.980859</td>\n",
       "      <td>675.019141</td>\n",
       "    </tr>\n",
       "    <tr>\n",
       "      <th>1</th>\n",
       "      <td>560.087180</td>\n",
       "      <td>722.912820</td>\n",
       "    </tr>\n",
       "    <tr>\n",
       "      <th>2</th>\n",
       "      <td>546.117742</td>\n",
       "      <td>704.882258</td>\n",
       "    </tr>\n",
       "    <tr>\n",
       "      <th>3</th>\n",
       "      <td>559.214090</td>\n",
       "      <td>721.785910</td>\n",
       "    </tr>\n",
       "    <tr>\n",
       "      <th>4</th>\n",
       "      <td>525.600129</td>\n",
       "      <td>678.399871</td>\n",
       "    </tr>\n",
       "  </tbody>\n",
       "</table>\n",
       "</div>"
      ],
      "text/plain": [
       "            0           1\n",
       "0  522.980859  675.019141\n",
       "1  560.087180  722.912820\n",
       "2  546.117742  704.882258\n",
       "3  559.214090  721.785910\n",
       "4  525.600129  678.399871"
      ]
     },
     "execution_count": 36,
     "metadata": {},
     "output_type": "execute_result"
    }
   ],
   "source": [
    "pd.DataFrame(expected_pre)"
   ]
  },
  {
   "cell_type": "markdown",
   "id": "f9e698bc-fc88-41f2-ad4c-3e50d963cf6e",
   "metadata": {},
   "source": [
    "## Is there a significant difference in the masculinity preferences for each of the assigned groups, post-prime? (As tested in the study?)"
   ]
  },
  {
   "cell_type": "code",
   "execution_count": 37,
   "id": "9f37e05b-5383-4d0d-9272-735f9b7d9628",
   "metadata": {},
   "outputs": [
    {
     "data": {
      "text/html": [
       "<div>\n",
       "<style scoped>\n",
       "    .dataframe tbody tr th:only-of-type {\n",
       "        vertical-align: middle;\n",
       "    }\n",
       "\n",
       "    .dataframe tbody tr th {\n",
       "        vertical-align: top;\n",
       "    }\n",
       "\n",
       "    .dataframe thead th {\n",
       "        text-align: right;\n",
       "    }\n",
       "</style>\n",
       "<table border=\"1\" class=\"dataframe\">\n",
       "  <thead>\n",
       "    <tr style=\"text-align: right;\">\n",
       "      <th></th>\n",
       "      <th>count</th>\n",
       "      <th>mean</th>\n",
       "      <th>std</th>\n",
       "      <th>min</th>\n",
       "      <th>25%</th>\n",
       "      <th>50%</th>\n",
       "      <th>75%</th>\n",
       "      <th>max</th>\n",
       "    </tr>\n",
       "    <tr>\n",
       "      <th>prime_condition_names</th>\n",
       "      <th></th>\n",
       "      <th></th>\n",
       "      <th></th>\n",
       "      <th></th>\n",
       "      <th></th>\n",
       "      <th></th>\n",
       "      <th></th>\n",
       "      <th></th>\n",
       "    </tr>\n",
       "  </thead>\n",
       "  <tbody>\n",
       "    <tr>\n",
       "      <th>male group</th>\n",
       "      <td>1247.0</td>\n",
       "      <td>0.555734</td>\n",
       "      <td>0.497083</td>\n",
       "      <td>0.0</td>\n",
       "      <td>0.0</td>\n",
       "      <td>1.0</td>\n",
       "      <td>1.0</td>\n",
       "      <td>1.0</td>\n",
       "    </tr>\n",
       "    <tr>\n",
       "      <th>male/female</th>\n",
       "      <td>1321.0</td>\n",
       "      <td>0.560182</td>\n",
       "      <td>0.496553</td>\n",
       "      <td>0.0</td>\n",
       "      <td>0.0</td>\n",
       "      <td>1.0</td>\n",
       "      <td>1.0</td>\n",
       "      <td>1.0</td>\n",
       "    </tr>\n",
       "    <tr>\n",
       "      <th>male/male</th>\n",
       "      <td>1301.0</td>\n",
       "      <td>0.561875</td>\n",
       "      <td>0.496347</td>\n",
       "      <td>0.0</td>\n",
       "      <td>0.0</td>\n",
       "      <td>1.0</td>\n",
       "      <td>1.0</td>\n",
       "      <td>1.0</td>\n",
       "    </tr>\n",
       "    <tr>\n",
       "      <th>neutral</th>\n",
       "      <td>1332.0</td>\n",
       "      <td>0.563814</td>\n",
       "      <td>0.496097</td>\n",
       "      <td>0.0</td>\n",
       "      <td>0.0</td>\n",
       "      <td>1.0</td>\n",
       "      <td>1.0</td>\n",
       "      <td>1.0</td>\n",
       "    </tr>\n",
       "    <tr>\n",
       "      <th>pathogen</th>\n",
       "      <td>1246.0</td>\n",
       "      <td>0.578652</td>\n",
       "      <td>0.493973</td>\n",
       "      <td>0.0</td>\n",
       "      <td>0.0</td>\n",
       "      <td>1.0</td>\n",
       "      <td>1.0</td>\n",
       "      <td>1.0</td>\n",
       "    </tr>\n",
       "  </tbody>\n",
       "</table>\n",
       "</div>"
      ],
      "text/plain": [
       "                        count      mean       std  min  25%  50%  75%  max\n",
       "prime_condition_names                                                     \n",
       "male group             1247.0  0.555734  0.497083  0.0  0.0  1.0  1.0  1.0\n",
       "male/female            1321.0  0.560182  0.496553  0.0  0.0  1.0  1.0  1.0\n",
       "male/male              1301.0  0.561875  0.496347  0.0  0.0  1.0  1.0  1.0\n",
       "neutral                1332.0  0.563814  0.496097  0.0  0.0  1.0  1.0  1.0\n",
       "pathogen               1246.0  0.578652  0.493973  0.0  0.0  1.0  1.0  1.0"
      ]
     },
     "execution_count": 37,
     "metadata": {},
     "output_type": "execute_result"
    }
   ],
   "source": [
    "only_post.groupby(\"prime_condition_names\")[\"chose_masc_numerical\"].describe()"
   ]
  },
  {
   "cell_type": "code",
   "execution_count": 38,
   "id": "c5c653d6-04d2-40ce-8ea8-a6d8c574ad25",
   "metadata": {},
   "outputs": [
    {
     "data": {
      "text/plain": [
       "<AxesSubplot:xlabel='prime_condition_names'>"
      ]
     },
     "execution_count": 38,
     "metadata": {},
     "output_type": "execute_result"
    },
    {
     "data": {
      "image/png": "[encoded data removed]",
      "text/plain": [
       "<Figure size 432x288 with 1 Axes>"
      ]
     },
     "metadata": {
      "needs_background": "light"
     },
     "output_type": "display_data"
    }
   ],
   "source": [
    "only_post.groupby(\"prime_condition_names\")[\"chose_masc_numerical\"].describe()[\"mean\"].plot.bar()"
   ]
  },
  {
   "cell_type": "code",
   "execution_count": 39,
   "id": "1becd97f-fde9-4506-9b3b-8a96aca861d6",
   "metadata": {},
   "outputs": [
    {
     "data": {
      "text/html": [
       "<div>\n",
       "<style scoped>\n",
       "    .dataframe tbody tr th:only-of-type {\n",
       "        vertical-align: middle;\n",
       "    }\n",
       "\n",
       "    .dataframe tbody tr th {\n",
       "        vertical-align: top;\n",
       "    }\n",
       "\n",
       "    .dataframe thead th {\n",
       "        text-align: right;\n",
       "    }\n",
       "</style>\n",
       "<table border=\"1\" class=\"dataframe\">\n",
       "  <thead>\n",
       "    <tr style=\"text-align: right;\">\n",
       "      <th>chose_masc_numerical</th>\n",
       "      <th>0</th>\n",
       "      <th>1</th>\n",
       "    </tr>\n",
       "    <tr>\n",
       "      <th>prime_condition_names</th>\n",
       "      <th></th>\n",
       "      <th></th>\n",
       "    </tr>\n",
       "  </thead>\n",
       "  <tbody>\n",
       "    <tr>\n",
       "      <th>male group</th>\n",
       "      <td>554</td>\n",
       "      <td>693</td>\n",
       "    </tr>\n",
       "    <tr>\n",
       "      <th>male/female</th>\n",
       "      <td>581</td>\n",
       "      <td>740</td>\n",
       "    </tr>\n",
       "    <tr>\n",
       "      <th>male/male</th>\n",
       "      <td>570</td>\n",
       "      <td>731</td>\n",
       "    </tr>\n",
       "    <tr>\n",
       "      <th>neutral</th>\n",
       "      <td>581</td>\n",
       "      <td>751</td>\n",
       "    </tr>\n",
       "    <tr>\n",
       "      <th>pathogen</th>\n",
       "      <td>525</td>\n",
       "      <td>721</td>\n",
       "    </tr>\n",
       "  </tbody>\n",
       "</table>\n",
       "</div>"
      ],
      "text/plain": [
       "chose_masc_numerical     0    1\n",
       "prime_condition_names          \n",
       "male group             554  693\n",
       "male/female            581  740\n",
       "male/male              570  731\n",
       "neutral                581  751\n",
       "pathogen               525  721"
      ]
     },
     "execution_count": 39,
     "metadata": {},
     "output_type": "execute_result"
    }
   ],
   "source": [
    "# Doing a chi squared test of independence\n",
    "post_contingency = pd.crosstab(only_post[\"prime_condition_names\"], only_post[\"chose_masc_numerical\"])\n",
    "post_contingency"
   ]
  },
  {
   "cell_type": "code",
   "execution_count": 40,
   "id": "a6bc52e6-a26a-431f-8ae0-4ff8d9ef0253",
   "metadata": {},
   "outputs": [],
   "source": [
    "chi2_post, p_post, dof_post, expected_post = stats.chi2_contingency(post_contingency, correction=False)"
   ]
  },
  {
   "cell_type": "code",
   "execution_count": 41,
   "id": "15d9b68d-34a9-4560-a22a-e46eeccc5feb",
   "metadata": {},
   "outputs": [
    {
     "name": "stdout",
     "output_type": "stream",
     "text": [
      "1.5366256988984515 0.8201344819097213\n"
     ]
    }
   ],
   "source": [
    "# There is absolutely no indication of any difference between the priming groups, very large p value\n",
    "print(chi2_post, p_post)"
   ]
  },
  {
   "cell_type": "code",
   "execution_count": 42,
   "id": "623c2e14-bb42-420a-893f-f3f4033dc85a",
   "metadata": {},
   "outputs": [
    {
     "data": {
      "text/html": [
       "<div>\n",
       "<style scoped>\n",
       "    .dataframe tbody tr th:only-of-type {\n",
       "        vertical-align: middle;\n",
       "    }\n",
       "\n",
       "    .dataframe tbody tr th {\n",
       "        vertical-align: top;\n",
       "    }\n",
       "\n",
       "    .dataframe thead th {\n",
       "        text-align: right;\n",
       "    }\n",
       "</style>\n",
       "<table border=\"1\" class=\"dataframe\">\n",
       "  <thead>\n",
       "    <tr style=\"text-align: right;\">\n",
       "      <th></th>\n",
       "      <th>0</th>\n",
       "      <th>1</th>\n",
       "    </tr>\n",
       "  </thead>\n",
       "  <tbody>\n",
       "    <tr>\n",
       "      <th>0</th>\n",
       "      <td>543.712890</td>\n",
       "      <td>703.287110</td>\n",
       "    </tr>\n",
       "    <tr>\n",
       "      <th>1</th>\n",
       "      <td>575.978129</td>\n",
       "      <td>745.021871</td>\n",
       "    </tr>\n",
       "    <tr>\n",
       "      <th>2</th>\n",
       "      <td>567.257794</td>\n",
       "      <td>733.742206</td>\n",
       "    </tr>\n",
       "    <tr>\n",
       "      <th>3</th>\n",
       "      <td>580.774314</td>\n",
       "      <td>751.225686</td>\n",
       "    </tr>\n",
       "    <tr>\n",
       "      <th>4</th>\n",
       "      <td>543.276873</td>\n",
       "      <td>702.723127</td>\n",
       "    </tr>\n",
       "  </tbody>\n",
       "</table>\n",
       "</div>"
      ],
      "text/plain": [
       "            0           1\n",
       "0  543.712890  703.287110\n",
       "1  575.978129  745.021871\n",
       "2  567.257794  733.742206\n",
       "3  580.774314  751.225686\n",
       "4  543.276873  702.723127"
      ]
     },
     "execution_count": 42,
     "metadata": {},
     "output_type": "execute_result"
    }
   ],
   "source": [
    "pd.DataFrame(expected_post)"
   ]
  },
  {
   "cell_type": "markdown",
   "id": "29fedee7-f235-4d7d-bd39-159dd90f98df",
   "metadata": {},
   "source": [
    "## Is there any difference in the means between combined pre/post prime and condition groups?"
   ]
  },
  {
   "cell_type": "code",
   "execution_count": 44,
   "id": "32adf1a1-110a-4e9d-b225-1ccba45c68cd",
   "metadata": {},
   "outputs": [
    {
     "data": {
      "text/html": [
       "<div>\n",
       "<style scoped>\n",
       "    .dataframe tbody tr th:only-of-type {\n",
       "        vertical-align: middle;\n",
       "    }\n",
       "\n",
       "    .dataframe tbody tr th {\n",
       "        vertical-align: top;\n",
       "    }\n",
       "\n",
       "    .dataframe thead th {\n",
       "        text-align: right;\n",
       "    }\n",
       "</style>\n",
       "<table border=\"1\" class=\"dataframe\">\n",
       "  <thead>\n",
       "    <tr style=\"text-align: right;\">\n",
       "      <th>chose_masc_numerical</th>\n",
       "      <th>0</th>\n",
       "      <th>1</th>\n",
       "    </tr>\n",
       "  </thead>\n",
       "  <tbody>\n",
       "    <tr>\n",
       "      <th>(male group, post-prime)</th>\n",
       "      <td>554</td>\n",
       "      <td>693</td>\n",
       "    </tr>\n",
       "    <tr>\n",
       "      <th>(male group, pre-prime)</th>\n",
       "      <td>497</td>\n",
       "      <td>701</td>\n",
       "    </tr>\n",
       "    <tr>\n",
       "      <th>(male/female, post-prime)</th>\n",
       "      <td>581</td>\n",
       "      <td>740</td>\n",
       "    </tr>\n",
       "    <tr>\n",
       "      <th>(male/female, pre-prime)</th>\n",
       "      <td>569</td>\n",
       "      <td>714</td>\n",
       "    </tr>\n",
       "    <tr>\n",
       "      <th>(male/male, post-prime)</th>\n",
       "      <td>570</td>\n",
       "      <td>731</td>\n",
       "    </tr>\n",
       "    <tr>\n",
       "      <th>(male/male, pre-prime)</th>\n",
       "      <td>564</td>\n",
       "      <td>687</td>\n",
       "    </tr>\n",
       "    <tr>\n",
       "      <th>(neutral, post-prime)</th>\n",
       "      <td>581</td>\n",
       "      <td>751</td>\n",
       "    </tr>\n",
       "    <tr>\n",
       "      <th>(neutral, pre-prime)</th>\n",
       "      <td>582</td>\n",
       "      <td>699</td>\n",
       "    </tr>\n",
       "    <tr>\n",
       "      <th>(pathogen, post-prime)</th>\n",
       "      <td>525</td>\n",
       "      <td>721</td>\n",
       "    </tr>\n",
       "    <tr>\n",
       "      <th>(pathogen, pre-prime)</th>\n",
       "      <td>502</td>\n",
       "      <td>702</td>\n",
       "    </tr>\n",
       "  </tbody>\n",
       "</table>\n",
       "</div>"
      ],
      "text/plain": [
       "chose_masc_numerical         0    1\n",
       "(male group, post-prime)   554  693\n",
       "(male group, pre-prime)    497  701\n",
       "(male/female, post-prime)  581  740\n",
       "(male/female, pre-prime)   569  714\n",
       "(male/male, post-prime)    570  731\n",
       "(male/male, pre-prime)     564  687\n",
       "(neutral, post-prime)      581  751\n",
       "(neutral, pre-prime)       582  699\n",
       "(pathogen, post-prime)     525  721\n",
       "(pathogen, pre-prime)      502  702"
      ]
     },
     "execution_count": 44,
     "metadata": {},
     "output_type": "execute_result"
    }
   ],
   "source": [
    "all_contingency = pd.crosstab([data[\"prime_condition_names\"], data[\"pre_post_prime_name\"]], data[\"chose_masc_numerical\"])\n",
    "all_contingency.index = list(all_contingency.index)\n",
    "all_contingency"
   ]
  },
  {
   "cell_type": "code",
   "execution_count": 45,
   "id": "e19066c8-76e0-4f58-919e-86fb3fffac48",
   "metadata": {},
   "outputs": [],
   "source": [
    "chi2_all, p_all, dof_all, expected_all = stats.chi2_contingency(all_contingency, correction=False)"
   ]
  },
  {
   "cell_type": "code",
   "execution_count": 46,
   "id": "67fe3c4a-ec5f-4ea8-a402-67b6e2a4057d",
   "metadata": {},
   "outputs": [
    {
     "name": "stdout",
     "output_type": "stream",
     "text": [
      "8.651024970338467 0.47009079965111744\n"
     ]
    }
   ],
   "source": [
    "# Even looking across all combinations of different priming groups, and pre and post prime, there is no indication of any differences in masculinity preference between the groups,\n",
    "# regardless if you are pre/post prime, regardless of what priming group was assigned\n",
    "print(chi2_all, p_all)"
   ]
  },
  {
   "cell_type": "code",
   "execution_count": 47,
   "id": "5665c48d-072b-4697-bb37-771d4eae5a24",
   "metadata": {},
   "outputs": [
    {
     "data": {
      "text/html": [
       "<div>\n",
       "<style scoped>\n",
       "    .dataframe tbody tr th:only-of-type {\n",
       "        vertical-align: middle;\n",
       "    }\n",
       "\n",
       "    .dataframe tbody tr th {\n",
       "        vertical-align: top;\n",
       "    }\n",
       "\n",
       "    .dataframe thead th {\n",
       "        text-align: right;\n",
       "    }\n",
       "</style>\n",
       "<table border=\"1\" class=\"dataframe\">\n",
       "  <thead>\n",
       "    <tr style=\"text-align: right;\">\n",
       "      <th></th>\n",
       "      <th>0</th>\n",
       "      <th>1</th>\n",
       "    </tr>\n",
       "  </thead>\n",
       "  <tbody>\n",
       "    <tr>\n",
       "      <th>0</th>\n",
       "      <td>544.036244</td>\n",
       "      <td>702.963756</td>\n",
       "    </tr>\n",
       "    <tr>\n",
       "      <th>1</th>\n",
       "      <td>522.658718</td>\n",
       "      <td>675.341282</td>\n",
       "    </tr>\n",
       "    <tr>\n",
       "      <th>2</th>\n",
       "      <td>576.320673</td>\n",
       "      <td>744.679327</td>\n",
       "    </tr>\n",
       "    <tr>\n",
       "      <th>3</th>\n",
       "      <td>559.742183</td>\n",
       "      <td>723.257817</td>\n",
       "    </tr>\n",
       "    <tr>\n",
       "      <th>4</th>\n",
       "      <td>567.595152</td>\n",
       "      <td>733.404848</td>\n",
       "    </tr>\n",
       "    <tr>\n",
       "      <th>5</th>\n",
       "      <td>545.781349</td>\n",
       "      <td>705.218651</td>\n",
       "    </tr>\n",
       "    <tr>\n",
       "      <th>6</th>\n",
       "      <td>581.119709</td>\n",
       "      <td>750.880291</td>\n",
       "    </tr>\n",
       "    <tr>\n",
       "      <th>7</th>\n",
       "      <td>558.869630</td>\n",
       "      <td>722.130370</td>\n",
       "    </tr>\n",
       "    <tr>\n",
       "      <th>8</th>\n",
       "      <td>543.599968</td>\n",
       "      <td>702.400032</td>\n",
       "    </tr>\n",
       "    <tr>\n",
       "      <th>9</th>\n",
       "      <td>525.276374</td>\n",
       "      <td>678.723626</td>\n",
       "    </tr>\n",
       "  </tbody>\n",
       "</table>\n",
       "</div>"
      ],
      "text/plain": [
       "            0           1\n",
       "0  544.036244  702.963756\n",
       "1  522.658718  675.341282\n",
       "2  576.320673  744.679327\n",
       "3  559.742183  723.257817\n",
       "4  567.595152  733.404848\n",
       "5  545.781349  705.218651\n",
       "6  581.119709  750.880291\n",
       "7  558.869630  722.130370\n",
       "8  543.599968  702.400032\n",
       "9  525.276374  678.723626"
      ]
     },
     "execution_count": 47,
     "metadata": {},
     "output_type": "execute_result"
    }
   ],
   "source": [
    "pd.DataFrame(expected_all)"
   ]
  }
 ],
 "metadata": {
  "kernelspec": {
   "display_name": "Python 3 (ipykernel)",
   "language": "python",
   "name": "python3"
  },
  "language_info": {
   "codemirror_mode": {
    "name": "ipython",
    "version": 3
   },
   "file_extension": ".py",
   "mimetype": "text/x-python",
   "name": "python",
   "nbconvert_exporter": "python",
   "pygments_lexer": "ipython3",
   "version": "3.9.12"
  }
 },
 "nbformat": 4,
 "nbformat_minor": 5
}
