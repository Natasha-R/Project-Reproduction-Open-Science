{
 "cells": [
  {
   "cell_type": "code",
   "execution_count": 1,
   "id": "5cd6e519-d170-4abd-8f58-66d40131f17b",
   "metadata": {},
   "outputs": [],
   "source": [
    "import pandas as pd\n",
    "import numpy as np\n",
    "import matplotlib.pyplot as plt\n",
    "import seaborn as sns\n",
    "from scipy import stats\n",
    "import statsmodels.api as sm\n",
    "import statsmodels.stats.contingency_tables"
   ]
  },
  {
   "cell_type": "markdown",
   "id": "e6317ad6-2df1-4595-adce-16b67dd8ac97",
   "metadata": {},
   "source": [
    "## Importing and pre-processing the data"
   ]
  },
  {
   "cell_type": "code",
   "execution_count": 2,
   "id": "0d581d64-e8b8-4ed0-91be-a6c3f3632ef9",
   "metadata": {},
   "outputs": [],
   "source": [
    "data = pd.read_csv(\"../Main Study (Face)/main_study_face_data_modified.csv\")"
   ]
  },
  {
   "cell_type": "markdown",
   "id": "59c02310-2ca9-4405-8fb3-24d16937ac12",
   "metadata": {},
   "source": [
    "Converting the pre/post prime indicators to words, for clarity reasons:"
   ]
  },
  {
   "cell_type": "code",
   "execution_count": 3,
   "id": "b2eddc26-fc62-42c7-8095-2130bca74927",
   "metadata": {},
   "outputs": [],
   "source": [
    "data[\"pre_post_prime_name\"] = data[\"pre_post_prime\"].map({0:\" pre-prime\",     \n",
    "                                                          1:\"post-prime\"})"
   ]
  },
  {
   "cell_type": "code",
   "execution_count": 4,
   "id": "fd1af557-15b1-4df2-b152-5aa95693b157",
   "metadata": {
    "tags": []
   },
   "outputs": [
    {
     "data": {
      "text/html": [
       "<div>\n",
       "<style scoped>\n",
       "    .dataframe tbody tr th:only-of-type {\n",
       "        vertical-align: middle;\n",
       "    }\n",
       "\n",
       "    .dataframe tbody tr th {\n",
       "        vertical-align: top;\n",
       "    }\n",
       "\n",
       "    .dataframe thead th {\n",
       "        text-align: right;\n",
       "    }\n",
       "</style>\n",
       "<table border=\"1\" class=\"dataframe\">\n",
       "  <thead>\n",
       "    <tr style=\"text-align: right;\">\n",
       "      <th></th>\n",
       "      <th>participant_id</th>\n",
       "      <th>prime_condition</th>\n",
       "      <th>prime_condition_names</th>\n",
       "      <th>trial_number</th>\n",
       "      <th>image</th>\n",
       "      <th>pre_post_prime</th>\n",
       "      <th>chose_masc</th>\n",
       "      <th>pre_post_prime_name</th>\n",
       "    </tr>\n",
       "  </thead>\n",
       "  <tbody>\n",
       "    <tr>\n",
       "      <th>0</th>\n",
       "      <td>11</td>\n",
       "      <td>1</td>\n",
       "      <td>neutral</td>\n",
       "      <td>2</td>\n",
       "      <td>Slide11.bmp</td>\n",
       "      <td>0</td>\n",
       "      <td>0</td>\n",
       "      <td>pre-prime</td>\n",
       "    </tr>\n",
       "    <tr>\n",
       "      <th>1</th>\n",
       "      <td>11</td>\n",
       "      <td>1</td>\n",
       "      <td>neutral</td>\n",
       "      <td>3</td>\n",
       "      <td>Slide9.bmp</td>\n",
       "      <td>0</td>\n",
       "      <td>1</td>\n",
       "      <td>pre-prime</td>\n",
       "    </tr>\n",
       "    <tr>\n",
       "      <th>2</th>\n",
       "      <td>11</td>\n",
       "      <td>1</td>\n",
       "      <td>neutral</td>\n",
       "      <td>4</td>\n",
       "      <td>Slide5.bmp</td>\n",
       "      <td>0</td>\n",
       "      <td>0</td>\n",
       "      <td>pre-prime</td>\n",
       "    </tr>\n",
       "    <tr>\n",
       "      <th>3</th>\n",
       "      <td>11</td>\n",
       "      <td>1</td>\n",
       "      <td>neutral</td>\n",
       "      <td>5</td>\n",
       "      <td>Slide1.bmp</td>\n",
       "      <td>0</td>\n",
       "      <td>1</td>\n",
       "      <td>pre-prime</td>\n",
       "    </tr>\n",
       "    <tr>\n",
       "      <th>4</th>\n",
       "      <td>11</td>\n",
       "      <td>1</td>\n",
       "      <td>neutral</td>\n",
       "      <td>6</td>\n",
       "      <td>Slide18.bmp</td>\n",
       "      <td>0</td>\n",
       "      <td>1</td>\n",
       "      <td>pre-prime</td>\n",
       "    </tr>\n",
       "  </tbody>\n",
       "</table>\n",
       "</div>"
      ],
      "text/plain": [
       "  participant_id  prime_condition prime_condition_names  trial_number  \\\n",
       "0             11                1               neutral             2   \n",
       "1             11                1               neutral             3   \n",
       "2             11                1               neutral             4   \n",
       "3             11                1               neutral             5   \n",
       "4             11                1               neutral             6   \n",
       "\n",
       "         image  pre_post_prime  chose_masc pre_post_prime_name  \n",
       "0  Slide11.bmp               0           0           pre-prime  \n",
       "1   Slide9.bmp               0           1           pre-prime  \n",
       "2   Slide5.bmp               0           0           pre-prime  \n",
       "3   Slide1.bmp               0           1           pre-prime  \n",
       "4  Slide18.bmp               0           1           pre-prime  "
      ]
     },
     "execution_count": 4,
     "metadata": {},
     "output_type": "execute_result"
    }
   ],
   "source": [
    "data.head()"
   ]
  },
  {
   "cell_type": "markdown",
   "id": "4efbb36c-2080-4786-bda5-bb15e060f77f",
   "metadata": {},
   "source": [
    "Creating a dataset containing only the post-prime values:"
   ]
  },
  {
   "cell_type": "code",
   "execution_count": 5,
   "id": "fd8cf57f-57fa-4c7e-a8b1-f9ff1f1b2ec7",
   "metadata": {},
   "outputs": [],
   "source": [
    "only_post = data[data[\"pre_post_prime\"]==1]"
   ]
  },
  {
   "cell_type": "markdown",
   "id": "d5a54d08-7eb4-4198-8cef-1332390f1d05",
   "metadata": {},
   "source": [
    "Creating a dataset containing only the pre-prime values:"
   ]
  },
  {
   "cell_type": "code",
   "execution_count": 6,
   "id": "433dfef9-074a-4d19-b0f7-792dffd0e514",
   "metadata": {},
   "outputs": [],
   "source": [
    "only_pre = data[data[\"pre_post_prime\"]==0]"
   ]
  },
  {
   "cell_type": "markdown",
   "id": "e525b1e9-2315-49d8-b961-e6463b1b763a",
   "metadata": {},
   "source": [
    "# Masculinity preferences by priming group"
   ]
  },
  {
   "cell_type": "markdown",
   "id": "89c3eb41-0a74-4b7a-ad88-d876f3ee9a69",
   "metadata": {},
   "source": [
    "It is interesting to explore how the participants' masculinity preferences vary both pre- and post-prime. These differences will be statistically tested using a chi square test of independence."
   ]
  },
  {
   "cell_type": "markdown",
   "id": "e44537db-177c-4ea1-90ef-d014c49dd4e7",
   "metadata": {},
   "source": [
    "## Pre-prime masculinity preferences\n",
    "\n",
    "Are there any differences in masculinity preferences between the priming groups, pre-prime?"
   ]
  },
  {
   "cell_type": "code",
   "execution_count": 7,
   "id": "aea78546-52fa-481e-89a8-d44872cdfe3a",
   "metadata": {},
   "outputs": [
    {
     "data": {
      "text/html": [
       "<div>\n",
       "<style scoped>\n",
       "    .dataframe tbody tr th:only-of-type {\n",
       "        vertical-align: middle;\n",
       "    }\n",
       "\n",
       "    .dataframe tbody tr th {\n",
       "        vertical-align: top;\n",
       "    }\n",
       "\n",
       "    .dataframe thead th {\n",
       "        text-align: right;\n",
       "    }\n",
       "</style>\n",
       "<table border=\"1\" class=\"dataframe\">\n",
       "  <thead>\n",
       "    <tr style=\"text-align: right;\">\n",
       "      <th></th>\n",
       "      <th>count</th>\n",
       "      <th>mean</th>\n",
       "      <th>std</th>\n",
       "      <th>min</th>\n",
       "      <th>25%</th>\n",
       "      <th>50%</th>\n",
       "      <th>75%</th>\n",
       "      <th>max</th>\n",
       "    </tr>\n",
       "    <tr>\n",
       "      <th>prime_condition_names</th>\n",
       "      <th></th>\n",
       "      <th></th>\n",
       "      <th></th>\n",
       "      <th></th>\n",
       "      <th></th>\n",
       "      <th></th>\n",
       "      <th></th>\n",
       "      <th></th>\n",
       "    </tr>\n",
       "  </thead>\n",
       "  <tbody>\n",
       "    <tr>\n",
       "      <th>male group</th>\n",
       "      <td>1198.0</td>\n",
       "      <td>0.512521</td>\n",
       "      <td>0.500052</td>\n",
       "      <td>0.0</td>\n",
       "      <td>0.0</td>\n",
       "      <td>1.0</td>\n",
       "      <td>1.0</td>\n",
       "      <td>1.0</td>\n",
       "    </tr>\n",
       "    <tr>\n",
       "      <th>male/female</th>\n",
       "      <td>1283.0</td>\n",
       "      <td>0.547155</td>\n",
       "      <td>0.497966</td>\n",
       "      <td>0.0</td>\n",
       "      <td>0.0</td>\n",
       "      <td>1.0</td>\n",
       "      <td>1.0</td>\n",
       "      <td>1.0</td>\n",
       "    </tr>\n",
       "    <tr>\n",
       "      <th>male/male</th>\n",
       "      <td>1251.0</td>\n",
       "      <td>0.480416</td>\n",
       "      <td>0.499816</td>\n",
       "      <td>0.0</td>\n",
       "      <td>0.0</td>\n",
       "      <td>0.0</td>\n",
       "      <td>1.0</td>\n",
       "      <td>1.0</td>\n",
       "    </tr>\n",
       "    <tr>\n",
       "      <th>neutral</th>\n",
       "      <td>1281.0</td>\n",
       "      <td>0.555816</td>\n",
       "      <td>0.497069</td>\n",
       "      <td>0.0</td>\n",
       "      <td>0.0</td>\n",
       "      <td>1.0</td>\n",
       "      <td>1.0</td>\n",
       "      <td>1.0</td>\n",
       "    </tr>\n",
       "    <tr>\n",
       "      <th>pathogen</th>\n",
       "      <td>1204.0</td>\n",
       "      <td>0.544850</td>\n",
       "      <td>0.498191</td>\n",
       "      <td>0.0</td>\n",
       "      <td>0.0</td>\n",
       "      <td>1.0</td>\n",
       "      <td>1.0</td>\n",
       "      <td>1.0</td>\n",
       "    </tr>\n",
       "  </tbody>\n",
       "</table>\n",
       "</div>"
      ],
      "text/plain": [
       "                        count      mean       std  min  25%  50%  75%  max\n",
       "prime_condition_names                                                     \n",
       "male group             1198.0  0.512521  0.500052  0.0  0.0  1.0  1.0  1.0\n",
       "male/female            1283.0  0.547155  0.497966  0.0  0.0  1.0  1.0  1.0\n",
       "male/male              1251.0  0.480416  0.499816  0.0  0.0  0.0  1.0  1.0\n",
       "neutral                1281.0  0.555816  0.497069  0.0  0.0  1.0  1.0  1.0\n",
       "pathogen               1204.0  0.544850  0.498191  0.0  0.0  1.0  1.0  1.0"
      ]
     },
     "execution_count": 7,
     "metadata": {},
     "output_type": "execute_result"
    }
   ],
   "source": [
    "only_pre.groupby(\"prime_condition_names\")[\"chose_masc\"].describe()"
   ]
  },
  {
   "cell_type": "code",
   "execution_count": 8,
   "id": "949ba28e-b3a4-49df-a4b9-4b06a775268a",
   "metadata": {},
   "outputs": [
    {
     "data": {
      "image/png": "[encoded data removed]",
      "text/plain": [
       "<Figure size 432x288 with 1 Axes>"
      ]
     },
     "metadata": {
      "needs_background": "light"
     },
     "output_type": "display_data"
    }
   ],
   "source": [
    "ax = only_pre.groupby(\"prime_condition_names\")[\"chose_masc\"].describe()[\"mean\"].plot.bar()\n",
    "ax.set_title(\"Pre-prime mean masculinity preferences\");"
   ]
  },
  {
   "cell_type": "markdown",
   "id": "dbb11cb6-abba-4c60-b19f-e1c9db1016eb",
   "metadata": {},
   "source": [
    "The male/male group seems to have a naturally lower masculinity preference, with neutral being higher. But is this difference statistically significant?\n",
    "\n",
    "Using a chi squared test of independence:"
   ]
  },
  {
   "cell_type": "code",
   "execution_count": 9,
   "id": "1b5f2f00-e0cd-4729-bdba-30412eafc0ea",
   "metadata": {},
   "outputs": [
    {
     "data": {
      "text/html": [
       "<div>\n",
       "<style scoped>\n",
       "    .dataframe tbody tr th:only-of-type {\n",
       "        vertical-align: middle;\n",
       "    }\n",
       "\n",
       "    .dataframe tbody tr th {\n",
       "        vertical-align: top;\n",
       "    }\n",
       "\n",
       "    .dataframe thead th {\n",
       "        text-align: right;\n",
       "    }\n",
       "</style>\n",
       "<table border=\"1\" class=\"dataframe\">\n",
       "  <thead>\n",
       "    <tr style=\"text-align: right;\">\n",
       "      <th>chose_masc</th>\n",
       "      <th>0</th>\n",
       "      <th>1</th>\n",
       "    </tr>\n",
       "    <tr>\n",
       "      <th>prime_condition_names</th>\n",
       "      <th></th>\n",
       "      <th></th>\n",
       "    </tr>\n",
       "  </thead>\n",
       "  <tbody>\n",
       "    <tr>\n",
       "      <th>male group</th>\n",
       "      <td>584</td>\n",
       "      <td>614</td>\n",
       "    </tr>\n",
       "    <tr>\n",
       "      <th>male/female</th>\n",
       "      <td>581</td>\n",
       "      <td>702</td>\n",
       "    </tr>\n",
       "    <tr>\n",
       "      <th>male/male</th>\n",
       "      <td>650</td>\n",
       "      <td>601</td>\n",
       "    </tr>\n",
       "    <tr>\n",
       "      <th>neutral</th>\n",
       "      <td>569</td>\n",
       "      <td>712</td>\n",
       "    </tr>\n",
       "    <tr>\n",
       "      <th>pathogen</th>\n",
       "      <td>548</td>\n",
       "      <td>656</td>\n",
       "    </tr>\n",
       "  </tbody>\n",
       "</table>\n",
       "</div>"
      ],
      "text/plain": [
       "chose_masc               0    1\n",
       "prime_condition_names          \n",
       "male group             584  614\n",
       "male/female            581  702\n",
       "male/male              650  601\n",
       "neutral                569  712\n",
       "pathogen               548  656"
      ]
     },
     "execution_count": 9,
     "metadata": {},
     "output_type": "execute_result"
    }
   ],
   "source": [
    "pre_contingency = pd.crosstab(only_pre[\"prime_condition_names\"], only_pre[\"chose_masc\"])\n",
    "pre_contingency"
   ]
  },
  {
   "cell_type": "code",
   "execution_count": 10,
   "id": "0d34187e-c8b6-449b-8447-8c8ef1c9300e",
   "metadata": {},
   "outputs": [],
   "source": [
    "chi2_pre, p_pre, dof_pre, expected_pre = stats.chi2_contingency(pre_contingency, correction=False)"
   ]
  },
  {
   "cell_type": "markdown",
   "id": "291a54c8-200a-4380-9085-e1e889b13da3",
   "metadata": {},
   "source": [
    "The p value is significant - it seems like the preferences of different groups is naturally different - the participants were not completely randomised - or with such a small sample size, total randomisation was not possible.\n",
    "\n",
    "It will therefore be important for any models to take account of these differences."
   ]
  },
  {
   "cell_type": "code",
   "execution_count": 11,
   "id": "179e5be7-0198-4045-b931-3fd19cb82590",
   "metadata": {},
   "outputs": [
    {
     "name": "stdout",
     "output_type": "stream",
     "text": [
      "19.753485394840656 0.000558578225753937\n"
     ]
    }
   ],
   "source": [
    "print(chi2_pre, p_pre)"
   ]
  },
  {
   "cell_type": "code",
   "execution_count": 12,
   "id": "b4ed6cb4-c187-41e1-a2ff-7ba631cd9ffe",
   "metadata": {},
   "outputs": [
    {
     "data": {
      "text/plain": [
       "array([[ 19.0110986 , -19.0110986 ],\n",
       "       [-24.07576001,  24.07576001],\n",
       "       [ 60.01576323, -60.01576323],\n",
       "       [-35.13253981,  35.13253981],\n",
       "       [-19.81856201,  19.81856201]])"
      ]
     },
     "execution_count": 12,
     "metadata": {},
     "output_type": "execute_result"
    }
   ],
   "source": [
    "np.array(pre_contingency) - expected_pre"
   ]
  },
  {
   "cell_type": "code",
   "execution_count": 13,
   "id": "ef5e9145-378e-4df9-9782-1da24e0bdcd5",
   "metadata": {},
   "outputs": [
    {
     "data": {
      "text/html": [
       "<div>\n",
       "<style scoped>\n",
       "    .dataframe tbody tr th:only-of-type {\n",
       "        vertical-align: middle;\n",
       "    }\n",
       "\n",
       "    .dataframe tbody tr th {\n",
       "        vertical-align: top;\n",
       "    }\n",
       "\n",
       "    .dataframe thead th {\n",
       "        text-align: right;\n",
       "    }\n",
       "</style>\n",
       "<table border=\"1\" class=\"dataframe\">\n",
       "  <thead>\n",
       "    <tr style=\"text-align: right;\">\n",
       "      <th>chose_masc</th>\n",
       "      <th>0</th>\n",
       "      <th>1</th>\n",
       "    </tr>\n",
       "    <tr>\n",
       "      <th>prime_condition_names</th>\n",
       "      <th></th>\n",
       "      <th></th>\n",
       "    </tr>\n",
       "  </thead>\n",
       "  <tbody>\n",
       "    <tr>\n",
       "      <th>male group</th>\n",
       "      <td>0.639697</td>\n",
       "      <td>0.570957</td>\n",
       "    </tr>\n",
       "    <tr>\n",
       "      <th>male/female</th>\n",
       "      <td>0.957966</td>\n",
       "      <td>0.855025</td>\n",
       "    </tr>\n",
       "    <tr>\n",
       "      <th>male/male</th>\n",
       "      <td>6.105065</td>\n",
       "      <td>5.449026</td>\n",
       "    </tr>\n",
       "    <tr>\n",
       "      <th>neutral</th>\n",
       "      <td>2.043087</td>\n",
       "      <td>1.823541</td>\n",
       "    </tr>\n",
       "    <tr>\n",
       "      <th>pathogen</th>\n",
       "      <td>0.691727</td>\n",
       "      <td>0.617395</td>\n",
       "    </tr>\n",
       "  </tbody>\n",
       "</table>\n",
       "</div>"
      ],
      "text/plain": [
       "chose_masc                    0         1\n",
       "prime_condition_names                    \n",
       "male group             0.639697  0.570957\n",
       "male/female            0.957966  0.855025\n",
       "male/male              6.105065  5.449026\n",
       "neutral                2.043087  1.823541\n",
       "pathogen               0.691727  0.617395"
      ]
     },
     "execution_count": 13,
     "metadata": {},
     "output_type": "execute_result"
    }
   ],
   "source": [
    "sm.stats.Table(pre_contingency).chi2_contribs"
   ]
  },
  {
   "cell_type": "markdown",
   "id": "b48aa786-2d7a-43d4-8f5e-70ce998f9eb0",
   "metadata": {},
   "source": [
    "We can see that it was the male/male group which contributed most to the differences: this is because the participants assigned to the male/male group had a higher natural preference for femininity than expected."
   ]
  },
  {
   "cell_type": "markdown",
   "id": "393ed0f1-dde4-47f4-b715-b284401c95a0",
   "metadata": {},
   "source": [
    "## Post-prime masculinity preferences\n",
    "\n",
    "Is there a significant difference in the masculinity preferences for each of the assigned groups, post-prime?"
   ]
  },
  {
   "cell_type": "code",
   "execution_count": 14,
   "id": "9f37e05b-5383-4d0d-9272-735f9b7d9628",
   "metadata": {},
   "outputs": [
    {
     "data": {
      "text/html": [
       "<div>\n",
       "<style scoped>\n",
       "    .dataframe tbody tr th:only-of-type {\n",
       "        vertical-align: middle;\n",
       "    }\n",
       "\n",
       "    .dataframe tbody tr th {\n",
       "        vertical-align: top;\n",
       "    }\n",
       "\n",
       "    .dataframe thead th {\n",
       "        text-align: right;\n",
       "    }\n",
       "</style>\n",
       "<table border=\"1\" class=\"dataframe\">\n",
       "  <thead>\n",
       "    <tr style=\"text-align: right;\">\n",
       "      <th></th>\n",
       "      <th>count</th>\n",
       "      <th>mean</th>\n",
       "      <th>std</th>\n",
       "      <th>min</th>\n",
       "      <th>25%</th>\n",
       "      <th>50%</th>\n",
       "      <th>75%</th>\n",
       "      <th>max</th>\n",
       "    </tr>\n",
       "    <tr>\n",
       "      <th>prime_condition_names</th>\n",
       "      <th></th>\n",
       "      <th></th>\n",
       "      <th></th>\n",
       "      <th></th>\n",
       "      <th></th>\n",
       "      <th></th>\n",
       "      <th></th>\n",
       "      <th></th>\n",
       "    </tr>\n",
       "  </thead>\n",
       "  <tbody>\n",
       "    <tr>\n",
       "      <th>male group</th>\n",
       "      <td>1247.0</td>\n",
       "      <td>0.595830</td>\n",
       "      <td>0.490928</td>\n",
       "      <td>0.0</td>\n",
       "      <td>0.0</td>\n",
       "      <td>1.0</td>\n",
       "      <td>1.0</td>\n",
       "      <td>1.0</td>\n",
       "    </tr>\n",
       "    <tr>\n",
       "      <th>male/female</th>\n",
       "      <td>1321.0</td>\n",
       "      <td>0.546556</td>\n",
       "      <td>0.498016</td>\n",
       "      <td>0.0</td>\n",
       "      <td>0.0</td>\n",
       "      <td>1.0</td>\n",
       "      <td>1.0</td>\n",
       "      <td>1.0</td>\n",
       "    </tr>\n",
       "    <tr>\n",
       "      <th>male/male</th>\n",
       "      <td>1301.0</td>\n",
       "      <td>0.550346</td>\n",
       "      <td>0.497650</td>\n",
       "      <td>0.0</td>\n",
       "      <td>0.0</td>\n",
       "      <td>1.0</td>\n",
       "      <td>1.0</td>\n",
       "      <td>1.0</td>\n",
       "    </tr>\n",
       "    <tr>\n",
       "      <th>neutral</th>\n",
       "      <td>1332.0</td>\n",
       "      <td>0.621622</td>\n",
       "      <td>0.485165</td>\n",
       "      <td>0.0</td>\n",
       "      <td>0.0</td>\n",
       "      <td>1.0</td>\n",
       "      <td>1.0</td>\n",
       "      <td>1.0</td>\n",
       "    </tr>\n",
       "    <tr>\n",
       "      <th>pathogen</th>\n",
       "      <td>1246.0</td>\n",
       "      <td>0.589085</td>\n",
       "      <td>0.492197</td>\n",
       "      <td>0.0</td>\n",
       "      <td>0.0</td>\n",
       "      <td>1.0</td>\n",
       "      <td>1.0</td>\n",
       "      <td>1.0</td>\n",
       "    </tr>\n",
       "  </tbody>\n",
       "</table>\n",
       "</div>"
      ],
      "text/plain": [
       "                        count      mean       std  min  25%  50%  75%  max\n",
       "prime_condition_names                                                     \n",
       "male group             1247.0  0.595830  0.490928  0.0  0.0  1.0  1.0  1.0\n",
       "male/female            1321.0  0.546556  0.498016  0.0  0.0  1.0  1.0  1.0\n",
       "male/male              1301.0  0.550346  0.497650  0.0  0.0  1.0  1.0  1.0\n",
       "neutral                1332.0  0.621622  0.485165  0.0  0.0  1.0  1.0  1.0\n",
       "pathogen               1246.0  0.589085  0.492197  0.0  0.0  1.0  1.0  1.0"
      ]
     },
     "execution_count": 14,
     "metadata": {},
     "output_type": "execute_result"
    }
   ],
   "source": [
    "only_post.groupby(\"prime_condition_names\")[\"chose_masc\"].describe()"
   ]
  },
  {
   "cell_type": "code",
   "execution_count": 15,
   "id": "c5c653d6-04d2-40ce-8ea8-a6d8c574ad25",
   "metadata": {},
   "outputs": [
    {
     "data": {
      "image/png": "[encoded data removed]",
      "text/plain": [
       "<Figure size 432x288 with 1 Axes>"
      ]
     },
     "metadata": {
      "needs_background": "light"
     },
     "output_type": "display_data"
    }
   ],
   "source": [
    "ax = only_post.groupby(\"prime_condition_names\")[\"chose_masc\"].describe()[\"mean\"].plot.bar()\n",
    "ax.set_title(\"Post-prime mean masculinity preferences\");"
   ]
  },
  {
   "cell_type": "markdown",
   "id": "74fde777-d668-4054-99ad-7b5d60e84448",
   "metadata": {},
   "source": [
    "The male/female condition has a lower masculinity preference than the other groups, however so does male/male. Therefore the results can only be analysed in context of the pre-prime masculinity preferences."
   ]
  },
  {
   "cell_type": "code",
   "execution_count": 16,
   "id": "1becd97f-fde9-4506-9b3b-8a96aca861d6",
   "metadata": {},
   "outputs": [
    {
     "data": {
      "text/html": [
       "<div>\n",
       "<style scoped>\n",
       "    .dataframe tbody tr th:only-of-type {\n",
       "        vertical-align: middle;\n",
       "    }\n",
       "\n",
       "    .dataframe tbody tr th {\n",
       "        vertical-align: top;\n",
       "    }\n",
       "\n",
       "    .dataframe thead th {\n",
       "        text-align: right;\n",
       "    }\n",
       "</style>\n",
       "<table border=\"1\" class=\"dataframe\">\n",
       "  <thead>\n",
       "    <tr style=\"text-align: right;\">\n",
       "      <th>chose_masc</th>\n",
       "      <th>0</th>\n",
       "      <th>1</th>\n",
       "    </tr>\n",
       "    <tr>\n",
       "      <th>prime_condition_names</th>\n",
       "      <th></th>\n",
       "      <th></th>\n",
       "    </tr>\n",
       "  </thead>\n",
       "  <tbody>\n",
       "    <tr>\n",
       "      <th>male group</th>\n",
       "      <td>504</td>\n",
       "      <td>743</td>\n",
       "    </tr>\n",
       "    <tr>\n",
       "      <th>male/female</th>\n",
       "      <td>599</td>\n",
       "      <td>722</td>\n",
       "    </tr>\n",
       "    <tr>\n",
       "      <th>male/male</th>\n",
       "      <td>585</td>\n",
       "      <td>716</td>\n",
       "    </tr>\n",
       "    <tr>\n",
       "      <th>neutral</th>\n",
       "      <td>504</td>\n",
       "      <td>828</td>\n",
       "    </tr>\n",
       "    <tr>\n",
       "      <th>pathogen</th>\n",
       "      <td>512</td>\n",
       "      <td>734</td>\n",
       "    </tr>\n",
       "  </tbody>\n",
       "</table>\n",
       "</div>"
      ],
      "text/plain": [
       "chose_masc               0    1\n",
       "prime_condition_names          \n",
       "male group             504  743\n",
       "male/female            599  722\n",
       "male/male              585  716\n",
       "neutral                504  828\n",
       "pathogen               512  734"
      ]
     },
     "execution_count": 16,
     "metadata": {},
     "output_type": "execute_result"
    }
   ],
   "source": [
    "# Doing a chi squared test of independence\n",
    "post_contingency = pd.crosstab(only_post[\"prime_condition_names\"], only_post[\"chose_masc\"])\n",
    "post_contingency"
   ]
  },
  {
   "cell_type": "code",
   "execution_count": 17,
   "id": "a6bc52e6-a26a-431f-8ae0-4ff8d9ef0253",
   "metadata": {},
   "outputs": [],
   "source": [
    "chi2_post, p_post, dof_post, expected_post = stats.chi2_contingency(post_contingency, correction=False)"
   ]
  },
  {
   "cell_type": "code",
   "execution_count": 18,
   "id": "15d9b68d-34a9-4560-a22a-e46eeccc5feb",
   "metadata": {},
   "outputs": [
    {
     "name": "stdout",
     "output_type": "stream",
     "text": [
      "21.938962822826873 0.000206105740636871\n"
     ]
    }
   ],
   "source": [
    "print(chi2_post, p_post)"
   ]
  },
  {
   "cell_type": "code",
   "execution_count": 19,
   "id": "145af1ea-2f01-4315-9f7c-473e454c436e",
   "metadata": {},
   "outputs": [
    {
     "data": {
      "text/plain": [
       "array([[-19.01659687,  19.01659687],\n",
       "       [ 44.94633163, -44.94633163],\n",
       "       [ 39.33472933, -39.33472933],\n",
       "       [-54.66728711,  54.66728711],\n",
       "       [-10.59717698,  10.59717698]])"
      ]
     },
     "execution_count": 19,
     "metadata": {},
     "output_type": "execute_result"
    }
   ],
   "source": [
    "np.array(post_contingency) - expected_post"
   ]
  },
  {
   "cell_type": "code",
   "execution_count": 20,
   "id": "1b8dfde5-40a5-4054-843e-713279586df6",
   "metadata": {},
   "outputs": [
    {
     "data": {
      "text/html": [
       "<div>\n",
       "<style scoped>\n",
       "    .dataframe tbody tr th:only-of-type {\n",
       "        vertical-align: middle;\n",
       "    }\n",
       "\n",
       "    .dataframe tbody tr th {\n",
       "        vertical-align: top;\n",
       "    }\n",
       "\n",
       "    .dataframe thead th {\n",
       "        text-align: right;\n",
       "    }\n",
       "</style>\n",
       "<table border=\"1\" class=\"dataframe\">\n",
       "  <thead>\n",
       "    <tr style=\"text-align: right;\">\n",
       "      <th>chose_masc</th>\n",
       "      <th>0</th>\n",
       "      <th>1</th>\n",
       "    </tr>\n",
       "    <tr>\n",
       "      <th>prime_condition_names</th>\n",
       "      <th></th>\n",
       "      <th></th>\n",
       "    </tr>\n",
       "  </thead>\n",
       "  <tbody>\n",
       "    <tr>\n",
       "      <th>male group</th>\n",
       "      <td>0.691433</td>\n",
       "      <td>0.499502</td>\n",
       "    </tr>\n",
       "    <tr>\n",
       "      <th>male/female</th>\n",
       "      <td>3.646168</td>\n",
       "      <td>2.634047</td>\n",
       "    </tr>\n",
       "    <tr>\n",
       "      <th>male/male</th>\n",
       "      <td>2.835476</td>\n",
       "      <td>2.048391</td>\n",
       "    </tr>\n",
       "    <tr>\n",
       "      <th>neutral</th>\n",
       "      <td>5.349360</td>\n",
       "      <td>3.864459</td>\n",
       "    </tr>\n",
       "    <tr>\n",
       "      <th>pathogen</th>\n",
       "      <td>0.214889</td>\n",
       "      <td>0.155239</td>\n",
       "    </tr>\n",
       "  </tbody>\n",
       "</table>\n",
       "</div>"
      ],
      "text/plain": [
       "chose_masc                    0         1\n",
       "prime_condition_names                    \n",
       "male group             0.691433  0.499502\n",
       "male/female            3.646168  2.634047\n",
       "male/male              2.835476  2.048391\n",
       "neutral                5.349360  3.864459\n",
       "pathogen               0.214889  0.155239"
      ]
     },
     "execution_count": 20,
     "metadata": {},
     "output_type": "execute_result"
    }
   ],
   "source": [
    "sm.stats.Table(post_contingency).chi2_contribs"
   ]
  },
  {
   "cell_type": "markdown",
   "id": "5710172c-2aa7-4f0e-af0a-dec26556f052",
   "metadata": {},
   "source": [
    "Looking only at the post prime data, the neutral group has a higher preference for masculinity than expected, and the male/female and male/male groups have a higher preference for femininity than expected."
   ]
  },
  {
   "cell_type": "markdown",
   "id": "29fedee7-f235-4d7d-bd39-159dd90f98df",
   "metadata": {},
   "source": [
    "## Pre- and post-prime masculinity preferences\n",
    "\n",
    "Is there any difference in the means between combined pre/post prime and condition groups?"
   ]
  },
  {
   "cell_type": "code",
   "execution_count": 21,
   "id": "f3b70e9e-57b2-44f3-bd54-1fa18c843ea4",
   "metadata": {},
   "outputs": [
    {
     "data": {
      "text/html": [
       "<div>\n",
       "<style scoped>\n",
       "    .dataframe tbody tr th:only-of-type {\n",
       "        vertical-align: middle;\n",
       "    }\n",
       "\n",
       "    .dataframe tbody tr th {\n",
       "        vertical-align: top;\n",
       "    }\n",
       "\n",
       "    .dataframe thead th {\n",
       "        text-align: right;\n",
       "    }\n",
       "</style>\n",
       "<table border=\"1\" class=\"dataframe\">\n",
       "  <thead>\n",
       "    <tr style=\"text-align: right;\">\n",
       "      <th></th>\n",
       "      <th></th>\n",
       "      <th>count</th>\n",
       "      <th>mean</th>\n",
       "      <th>std</th>\n",
       "      <th>min</th>\n",
       "      <th>25%</th>\n",
       "      <th>50%</th>\n",
       "      <th>75%</th>\n",
       "      <th>max</th>\n",
       "    </tr>\n",
       "    <tr>\n",
       "      <th>prime_condition_names</th>\n",
       "      <th>pre_post_prime_name</th>\n",
       "      <th></th>\n",
       "      <th></th>\n",
       "      <th></th>\n",
       "      <th></th>\n",
       "      <th></th>\n",
       "      <th></th>\n",
       "      <th></th>\n",
       "      <th></th>\n",
       "    </tr>\n",
       "  </thead>\n",
       "  <tbody>\n",
       "    <tr>\n",
       "      <th rowspan=\"2\" valign=\"top\">male group</th>\n",
       "      <th>pre-prime</th>\n",
       "      <td>1198.0</td>\n",
       "      <td>0.512521</td>\n",
       "      <td>0.500052</td>\n",
       "      <td>0.0</td>\n",
       "      <td>0.0</td>\n",
       "      <td>1.0</td>\n",
       "      <td>1.0</td>\n",
       "      <td>1.0</td>\n",
       "    </tr>\n",
       "    <tr>\n",
       "      <th>post-prime</th>\n",
       "      <td>1247.0</td>\n",
       "      <td>0.595830</td>\n",
       "      <td>0.490928</td>\n",
       "      <td>0.0</td>\n",
       "      <td>0.0</td>\n",
       "      <td>1.0</td>\n",
       "      <td>1.0</td>\n",
       "      <td>1.0</td>\n",
       "    </tr>\n",
       "    <tr>\n",
       "      <th rowspan=\"2\" valign=\"top\">male/female</th>\n",
       "      <th>pre-prime</th>\n",
       "      <td>1283.0</td>\n",
       "      <td>0.547155</td>\n",
       "      <td>0.497966</td>\n",
       "      <td>0.0</td>\n",
       "      <td>0.0</td>\n",
       "      <td>1.0</td>\n",
       "      <td>1.0</td>\n",
       "      <td>1.0</td>\n",
       "    </tr>\n",
       "    <tr>\n",
       "      <th>post-prime</th>\n",
       "      <td>1321.0</td>\n",
       "      <td>0.546556</td>\n",
       "      <td>0.498016</td>\n",
       "      <td>0.0</td>\n",
       "      <td>0.0</td>\n",
       "      <td>1.0</td>\n",
       "      <td>1.0</td>\n",
       "      <td>1.0</td>\n",
       "    </tr>\n",
       "    <tr>\n",
       "      <th rowspan=\"2\" valign=\"top\">male/male</th>\n",
       "      <th>pre-prime</th>\n",
       "      <td>1251.0</td>\n",
       "      <td>0.480416</td>\n",
       "      <td>0.499816</td>\n",
       "      <td>0.0</td>\n",
       "      <td>0.0</td>\n",
       "      <td>0.0</td>\n",
       "      <td>1.0</td>\n",
       "      <td>1.0</td>\n",
       "    </tr>\n",
       "    <tr>\n",
       "      <th>post-prime</th>\n",
       "      <td>1301.0</td>\n",
       "      <td>0.550346</td>\n",
       "      <td>0.497650</td>\n",
       "      <td>0.0</td>\n",
       "      <td>0.0</td>\n",
       "      <td>1.0</td>\n",
       "      <td>1.0</td>\n",
       "      <td>1.0</td>\n",
       "    </tr>\n",
       "    <tr>\n",
       "      <th rowspan=\"2\" valign=\"top\">neutral</th>\n",
       "      <th>pre-prime</th>\n",
       "      <td>1281.0</td>\n",
       "      <td>0.555816</td>\n",
       "      <td>0.497069</td>\n",
       "      <td>0.0</td>\n",
       "      <td>0.0</td>\n",
       "      <td>1.0</td>\n",
       "      <td>1.0</td>\n",
       "      <td>1.0</td>\n",
       "    </tr>\n",
       "    <tr>\n",
       "      <th>post-prime</th>\n",
       "      <td>1332.0</td>\n",
       "      <td>0.621622</td>\n",
       "      <td>0.485165</td>\n",
       "      <td>0.0</td>\n",
       "      <td>0.0</td>\n",
       "      <td>1.0</td>\n",
       "      <td>1.0</td>\n",
       "      <td>1.0</td>\n",
       "    </tr>\n",
       "    <tr>\n",
       "      <th rowspan=\"2\" valign=\"top\">pathogen</th>\n",
       "      <th>pre-prime</th>\n",
       "      <td>1204.0</td>\n",
       "      <td>0.544850</td>\n",
       "      <td>0.498191</td>\n",
       "      <td>0.0</td>\n",
       "      <td>0.0</td>\n",
       "      <td>1.0</td>\n",
       "      <td>1.0</td>\n",
       "      <td>1.0</td>\n",
       "    </tr>\n",
       "    <tr>\n",
       "      <th>post-prime</th>\n",
       "      <td>1246.0</td>\n",
       "      <td>0.589085</td>\n",
       "      <td>0.492197</td>\n",
       "      <td>0.0</td>\n",
       "      <td>0.0</td>\n",
       "      <td>1.0</td>\n",
       "      <td>1.0</td>\n",
       "      <td>1.0</td>\n",
       "    </tr>\n",
       "  </tbody>\n",
       "</table>\n",
       "</div>"
      ],
      "text/plain": [
       "                                            count      mean       std  min  \\\n",
       "prime_condition_names pre_post_prime_name                                    \n",
       "male group             pre-prime           1198.0  0.512521  0.500052  0.0   \n",
       "                      post-prime           1247.0  0.595830  0.490928  0.0   \n",
       "male/female            pre-prime           1283.0  0.547155  0.497966  0.0   \n",
       "                      post-prime           1321.0  0.546556  0.498016  0.0   \n",
       "male/male              pre-prime           1251.0  0.480416  0.499816  0.0   \n",
       "                      post-prime           1301.0  0.550346  0.497650  0.0   \n",
       "neutral                pre-prime           1281.0  0.555816  0.497069  0.0   \n",
       "                      post-prime           1332.0  0.621622  0.485165  0.0   \n",
       "pathogen               pre-prime           1204.0  0.544850  0.498191  0.0   \n",
       "                      post-prime           1246.0  0.589085  0.492197  0.0   \n",
       "\n",
       "                                           25%  50%  75%  max  \n",
       "prime_condition_names pre_post_prime_name                      \n",
       "male group             pre-prime           0.0  1.0  1.0  1.0  \n",
       "                      post-prime           0.0  1.0  1.0  1.0  \n",
       "male/female            pre-prime           0.0  1.0  1.0  1.0  \n",
       "                      post-prime           0.0  1.0  1.0  1.0  \n",
       "male/male              pre-prime           0.0  0.0  1.0  1.0  \n",
       "                      post-prime           0.0  1.0  1.0  1.0  \n",
       "neutral                pre-prime           0.0  1.0  1.0  1.0  \n",
       "                      post-prime           0.0  1.0  1.0  1.0  \n",
       "pathogen               pre-prime           0.0  1.0  1.0  1.0  \n",
       "                      post-prime           0.0  1.0  1.0  1.0  "
      ]
     },
     "execution_count": 21,
     "metadata": {},
     "output_type": "execute_result"
    }
   ],
   "source": [
    "data.groupby([\"prime_condition_names\", \"pre_post_prime_name\"])[\"chose_masc\"].describe()"
   ]
  },
  {
   "cell_type": "code",
   "execution_count": 22,
   "id": "5d54a8ee-5cc8-4591-9ab6-d395bc19edf3",
   "metadata": {},
   "outputs": [
    {
     "data": {
      "text/plain": [
       "<AxesSubplot:xlabel='prime_condition_names,pre_post_prime_name'>"
      ]
     },
     "execution_count": 22,
     "metadata": {},
     "output_type": "execute_result"
    },
    {
     "data": {
      "image/png": "[encoded data removed]",
      "text/plain": [
       "<Figure size 432x288 with 1 Axes>"
      ]
     },
     "metadata": {
      "needs_background": "light"
     },
     "output_type": "display_data"
    }
   ],
   "source": [
    "data.groupby([\"prime_condition_names\", \"pre_post_prime_name\"])[\"chose_masc\"].describe()[\"mean\"].plot.bar()"
   ]
  },
  {
   "cell_type": "code",
   "execution_count": 23,
   "id": "32adf1a1-110a-4e9d-b225-1ccba45c68cd",
   "metadata": {},
   "outputs": [
    {
     "data": {
      "text/html": [
       "<div>\n",
       "<style scoped>\n",
       "    .dataframe tbody tr th:only-of-type {\n",
       "        vertical-align: middle;\n",
       "    }\n",
       "\n",
       "    .dataframe tbody tr th {\n",
       "        vertical-align: top;\n",
       "    }\n",
       "\n",
       "    .dataframe thead th {\n",
       "        text-align: right;\n",
       "    }\n",
       "</style>\n",
       "<table border=\"1\" class=\"dataframe\">\n",
       "  <thead>\n",
       "    <tr style=\"text-align: right;\">\n",
       "      <th>chose_masc</th>\n",
       "      <th>0</th>\n",
       "      <th>1</th>\n",
       "    </tr>\n",
       "  </thead>\n",
       "  <tbody>\n",
       "    <tr>\n",
       "      <th>(male group,  pre-prime)</th>\n",
       "      <td>584</td>\n",
       "      <td>614</td>\n",
       "    </tr>\n",
       "    <tr>\n",
       "      <th>(male group, post-prime)</th>\n",
       "      <td>504</td>\n",
       "      <td>743</td>\n",
       "    </tr>\n",
       "    <tr>\n",
       "      <th>(male/female,  pre-prime)</th>\n",
       "      <td>581</td>\n",
       "      <td>702</td>\n",
       "    </tr>\n",
       "    <tr>\n",
       "      <th>(male/female, post-prime)</th>\n",
       "      <td>599</td>\n",
       "      <td>722</td>\n",
       "    </tr>\n",
       "    <tr>\n",
       "      <th>(male/male,  pre-prime)</th>\n",
       "      <td>650</td>\n",
       "      <td>601</td>\n",
       "    </tr>\n",
       "    <tr>\n",
       "      <th>(male/male, post-prime)</th>\n",
       "      <td>585</td>\n",
       "      <td>716</td>\n",
       "    </tr>\n",
       "    <tr>\n",
       "      <th>(neutral,  pre-prime)</th>\n",
       "      <td>569</td>\n",
       "      <td>712</td>\n",
       "    </tr>\n",
       "    <tr>\n",
       "      <th>(neutral, post-prime)</th>\n",
       "      <td>504</td>\n",
       "      <td>828</td>\n",
       "    </tr>\n",
       "    <tr>\n",
       "      <th>(pathogen,  pre-prime)</th>\n",
       "      <td>548</td>\n",
       "      <td>656</td>\n",
       "    </tr>\n",
       "    <tr>\n",
       "      <th>(pathogen, post-prime)</th>\n",
       "      <td>512</td>\n",
       "      <td>734</td>\n",
       "    </tr>\n",
       "  </tbody>\n",
       "</table>\n",
       "</div>"
      ],
      "text/plain": [
       "chose_masc                   0    1\n",
       "(male group,  pre-prime)   584  614\n",
       "(male group, post-prime)   504  743\n",
       "(male/female,  pre-prime)  581  702\n",
       "(male/female, post-prime)  599  722\n",
       "(male/male,  pre-prime)    650  601\n",
       "(male/male, post-prime)    585  716\n",
       "(neutral,  pre-prime)      569  712\n",
       "(neutral, post-prime)      504  828\n",
       "(pathogen,  pre-prime)     548  656\n",
       "(pathogen, post-prime)     512  734"
      ]
     },
     "execution_count": 23,
     "metadata": {},
     "output_type": "execute_result"
    }
   ],
   "source": [
    "all_contingency = pd.crosstab([data[\"prime_condition_names\"], data[\"pre_post_prime_name\"]], data[\"chose_masc\"])\n",
    "all_contingency.index = list(all_contingency.index)\n",
    "all_contingency"
   ]
  },
  {
   "cell_type": "code",
   "execution_count": 24,
   "id": "e19066c8-76e0-4f58-919e-86fb3fffac48",
   "metadata": {},
   "outputs": [],
   "source": [
    "chi2_all, p_all, dof_all, expected_all = stats.chi2_contingency(all_contingency, correction=False)"
   ]
  },
  {
   "cell_type": "code",
   "execution_count": 25,
   "id": "67fe3c4a-ec5f-4ea8-a402-67b6e2a4057d",
   "metadata": {},
   "outputs": [
    {
     "name": "stdout",
     "output_type": "stream",
     "text": [
      "76.46586931961704 8.110459511046936e-13\n"
     ]
    }
   ],
   "source": [
    "print(chi2_all, p_all)"
   ]
  },
  {
   "cell_type": "code",
   "execution_count": 26,
   "id": "79e9d216-4a93-4dec-9189-74fad0c89ce9",
   "metadata": {},
   "outputs": [
    {
     "data": {
      "text/plain": [
       "array([[ 50.84080859, -50.84080859],\n",
       "       [-50.96620341,  50.96620341],\n",
       "       [ 10.01231838, -10.01231838],\n",
       "       [ 11.10075805, -11.10075805],\n",
       "       [ 93.25363234, -93.25363234],\n",
       "       [  6.00157928,  -6.00157928],\n",
       "       [ -1.09759949,   1.09759949],\n",
       "       [-88.79469362,  88.79469362],\n",
       "       [ 12.17056222, -12.17056222],\n",
       "       [-42.52116235,  42.52116235]])"
      ]
     },
     "execution_count": 26,
     "metadata": {},
     "output_type": "execute_result"
    }
   ],
   "source": [
    "np.array(all_contingency) - expected_all"
   ]
  },
  {
   "cell_type": "code",
   "execution_count": 27,
   "id": "81e217ba-a916-4515-9990-fcce922122dc",
   "metadata": {},
   "outputs": [
    {
     "data": {
      "text/html": [
       "<div>\n",
       "<style scoped>\n",
       "    .dataframe tbody tr th:only-of-type {\n",
       "        vertical-align: middle;\n",
       "    }\n",
       "\n",
       "    .dataframe tbody tr th {\n",
       "        vertical-align: top;\n",
       "    }\n",
       "\n",
       "    .dataframe thead th {\n",
       "        text-align: right;\n",
       "    }\n",
       "</style>\n",
       "<table border=\"1\" class=\"dataframe\">\n",
       "  <thead>\n",
       "    <tr style=\"text-align: right;\">\n",
       "      <th>chose_masc</th>\n",
       "      <th>0</th>\n",
       "      <th>1</th>\n",
       "    </tr>\n",
       "  </thead>\n",
       "  <tbody>\n",
       "    <tr>\n",
       "      <th>(male group,  pre-prime)</th>\n",
       "      <td>4.848060</td>\n",
       "      <td>3.887830</td>\n",
       "    </tr>\n",
       "    <tr>\n",
       "      <th>(male group, post-prime)</th>\n",
       "      <td>4.680562</td>\n",
       "      <td>3.753507</td>\n",
       "    </tr>\n",
       "    <tr>\n",
       "      <th>(male/female,  pre-prime)</th>\n",
       "      <td>0.175567</td>\n",
       "      <td>0.140793</td>\n",
       "    </tr>\n",
       "    <tr>\n",
       "      <th>(male/female, post-prime)</th>\n",
       "      <td>0.209605</td>\n",
       "      <td>0.168090</td>\n",
       "    </tr>\n",
       "    <tr>\n",
       "      <th>(male/male,  pre-prime)</th>\n",
       "      <td>15.619752</td>\n",
       "      <td>12.526027</td>\n",
       "    </tr>\n",
       "    <tr>\n",
       "      <th>(male/male, post-prime)</th>\n",
       "      <td>0.062209</td>\n",
       "      <td>0.049888</td>\n",
       "    </tr>\n",
       "    <tr>\n",
       "      <th>(neutral,  pre-prime)</th>\n",
       "      <td>0.002113</td>\n",
       "      <td>0.001695</td>\n",
       "    </tr>\n",
       "    <tr>\n",
       "      <th>(neutral, post-prime)</th>\n",
       "      <td>13.300554</td>\n",
       "      <td>10.666181</td>\n",
       "    </tr>\n",
       "    <tr>\n",
       "      <th>(pathogen,  pre-prime)</th>\n",
       "      <td>0.276436</td>\n",
       "      <td>0.221684</td>\n",
       "    </tr>\n",
       "    <tr>\n",
       "      <th>(pathogen, post-prime)</th>\n",
       "      <td>3.260560</td>\n",
       "      <td>2.614757</td>\n",
       "    </tr>\n",
       "  </tbody>\n",
       "</table>\n",
       "</div>"
      ],
      "text/plain": [
       "chose_masc                         0          1\n",
       "(male group,  pre-prime)    4.848060   3.887830\n",
       "(male group, post-prime)    4.680562   3.753507\n",
       "(male/female,  pre-prime)   0.175567   0.140793\n",
       "(male/female, post-prime)   0.209605   0.168090\n",
       "(male/male,  pre-prime)    15.619752  12.526027\n",
       "(male/male, post-prime)     0.062209   0.049888\n",
       "(neutral,  pre-prime)       0.002113   0.001695\n",
       "(neutral, post-prime)      13.300554  10.666181\n",
       "(pathogen,  pre-prime)      0.276436   0.221684\n",
       "(pathogen, post-prime)      3.260560   2.614757"
      ]
     },
     "execution_count": 27,
     "metadata": {},
     "output_type": "execute_result"
    }
   ],
   "source": [
    "sm.stats.Table(all_contingency).chi2_contribs"
   ]
  },
  {
   "cell_type": "markdown",
   "id": "ee4344ed-b081-4ef6-b900-ccca43854bac",
   "metadata": {},
   "source": [
    "As found before: in the pre-prime state, the group of participants assigned to the male/male group have a higher preference for femininity than expected.  \n",
    "In post-prime, the neutral group have a higher preference for masculinity than expected."
   ]
  }
 ],
 "metadata": {
  "kernelspec": {
   "display_name": "Python 3 (ipykernel)",
   "language": "python",
   "name": "python3"
  },
  "language_info": {
   "codemirror_mode": {
    "name": "ipython",
    "version": 3
   },
   "file_extension": ".py",
   "mimetype": "text/x-python",
   "name": "python",
   "nbconvert_exporter": "python",
   "pygments_lexer": "ipython3",
   "version": "3.9.12"
  }
 },
 "nbformat": 4,
 "nbformat_minor": 5
}
